{
 "nbformat": 4,
 "nbformat_minor": 0,
 "metadata": {
  "colab": {
   "provenance": [],
   "gpuType": "T4"
  },
  "kernelspec": {
   "name": "python3",
   "display_name": "Python 3 (ipykernel)",
   "language": "python"
  },
  "language_info": {
   "name": "python"
  },
  "accelerator": "GPU"
 },
 "cells": [
  {
   "metadata": {},
   "cell_type": "markdown",
   "source": [
    "# Chronos Multivariate Neural Network for Stock Price Prediction\n",
    "\n",
    "This notebook demonstrates the use of the Chronos forecasting model\n",
    "in conjunction with a custom neural network to predict stock prices based on a *multivariate time-series*.\n",
    "\n",
    "The notebook automatically installs the necessary dependencies and downloading historical stock data from Yahoo Finance.\n",
    "The data includes various dimensions such as Open, High, Low, and Close prices.\n",
    "\n",
    "The *goal of the neural network* is to join the predictions made by the Chronos model for each dimension\n",
    "into a single prediction for the next day's closing price.\n",
    "\n",
    "\n",
    "#### Dataset preparation\n",
    "\n",
    "A sliding window approach is used to generate the dataset.\n",
    "For each window, the Chronos model predicts the next day's value of each dimension.\n",
    "These predictions are used as inputs to the neural network, while the actual closing price is used as target.\n",
    "\n",
    "#### Neural Network Training\n",
    "\n",
    "1. Data is normalized, split into training and validation sets, and converted to PyTorch tensors\n",
    "2. A neural network with three fully connected layers is defined for price prediction (input: covariate predictions, output: closing price)\n",
    "3. The network is trained using the training dataset, with early stopping to prevent overfitting\n",
    "\n",
    "#### Evaluation\n",
    "\n",
    "The trained model is tested on new data to predict future stock prices.\n",
    "The predictions are compared against the actual prices and the predictions made by the Chronos model alone,\n",
    "applied to the closing price directly.\n",
    "\n",
    "Various metrics such as MSE, RMSE, MAPE, and MASE are computed to evaluate the model's performance.\n",
    "The results are compared between Chronos+NN and Chronos-only approaches.\n"
   ]
  },
  {
   "metadata": {},
   "cell_type": "markdown",
   "source": "### Install Dependencies and download data"
  },
  {
   "cell_type": "code",
   "metadata": {
    "colab": {
     "base_uri": "https://localhost:8080/"
    },
    "id": "bvJddIimkmBp",
    "outputId": "6c152647-4d3e-4945-ccdc-c32ffb1a4a81",
    "collapsed": true
   },
   "source": [
    "!pip install torch transformers chronos yfinance pandas matplotlib\n",
    "!pip install git+https://github.com/amazon-science/chronos-forecasting.git"
   ],
   "outputs": [],
   "execution_count": null
  },
  {
   "metadata": {
    "id": "ShAEGB9nGGFy",
    "ExecuteTime": {
     "end_time": "2025-02-06T11:32:02.740936Z",
     "start_time": "2025-02-06T11:31:58.873234Z"
    }
   },
   "cell_type": "code",
   "source": [
    "import numpy as np\n",
    "import pandas as pd\n",
    "import yfinance as yf\n",
    "import matplotlib.pyplot as plt\n",
    "from chronos import BaseChronosPipeline\n",
    "from sklearn.preprocessing import StandardScaler\n",
    "from sklearn.model_selection import train_test_split\n",
    "from sklearn.metrics import mean_absolute_error, mean_squared_error\n",
    "\n",
    "import torch\n",
    "import torch.nn as nn\n",
    "import torch.optim as optim\n",
    "from torch.optim.lr_scheduler import MultiStepLR\n",
    "from torch.utils.data import DataLoader, TensorDataset\n",
    "\n",
    "seed = 343126\n",
    "\n",
    "\n",
    "def reset_seed():\n",
    "    torch.manual_seed(seed)\n",
    "    if torch.cuda.is_available():\n",
    "        torch.cuda.manual_seed_all(seed)\n",
    "    np.random.seed(seed)\n",
    "\n",
    "\n",
    "DEVICE = \"cuda\" if torch.cuda.is_available() else \"cpu\""
   ],
   "outputs": [],
   "execution_count": 7
  },
  {
   "metadata": {
    "id": "EooDoFX1GGF0"
   },
   "cell_type": "markdown",
   "source": [
    "#### Download data"
   ]
  },
  {
   "metadata": {
    "id": "lakKP7hEGGF2",
    "ExecuteTime": {
     "end_time": "2025-02-06T11:32:04.013866Z",
     "start_time": "2025-02-06T11:32:02.892535Z"
    }
   },
   "cell_type": "code",
   "source": [
    "# Download Yahoo Finance data\n",
    "symbol = \"AAPL\"  # Replace with desired stock symbol\n",
    "data = yf.download(symbol, start=\"2010-01-01\", end=\"2023-12-31\", progress=False)\n",
    "\n",
    "# Use 'Close' column as time series to forecast\n",
    "df = data.reset_index()\n",
    "covariates = df[[\"Open\", \"High\", \"Low\", \"Close\"]].values\n",
    "close_prices = df[\"Close\"].values"
   ],
   "outputs": [],
   "execution_count": 8
  },
  {
   "metadata": {
    "id": "DU_5wbYOGGF2"
   },
   "cell_type": "markdown",
   "source": [
    "#### Generate dataset for NN training"
   ]
  },
  {
   "metadata": {
    "id": "DVMvaRbcmpvk",
    "ExecuteTime": {
     "end_time": "2025-02-06T11:32:09.260563Z",
     "start_time": "2025-02-06T11:32:04.032349Z"
    }
   },
   "cell_type": "code",
   "source": [
    "# Chronos Model\n",
    "pipeline = BaseChronosPipeline.from_pretrained(\"amazon/chronos-t5-tiny\", device_map=DEVICE, torch_dtype=torch.bfloat16)\n",
    "\n",
    "\n",
    "# Sliding window to generate the dataset\n",
    "def generate_dataset_with_chronos(covariates, close_prices, pipeline, window_size=50):\n",
    "    \"\"\" Generate dataset using Chronos for forecasting: for each covariate, predict the next day closing price.\n",
    "    :param covariates: covariates data\n",
    "    :param close_prices: closing prices data\n",
    "    :param pipeline: Chronos model to use for forecasting\n",
    "    :param window_size: Size of the sliding window\n",
    "    :return: Tuple with input and output datasets (numpy arrays)\n",
    "    \"\"\"\n",
    "\n",
    "    X = []\n",
    "    Y = []\n",
    "    for t in range(len(covariates) - window_size):\n",
    "        # Covariate window\n",
    "        window = covariates[t:t + window_size]\n",
    "\n",
    "        # Chronos forcasting for each covariate\n",
    "        means = []\n",
    "        for i in range(window.shape[1]):  # Iterate over each covariate\n",
    "            context = torch.tensor(window[:, i])  # Univariate series\n",
    "            forecast = pipeline.predict(context=context, prediction_length=1)  # Predict the next day\n",
    "            mean_forecast = np.mean(forecast[0].numpy())  # Distribution mean\n",
    "            means.append(mean_forecast)\n",
    "\n",
    "        # Input: Mean of covariates\n",
    "        X.append(means)\n",
    "\n",
    "        # Ground truth: Real closing price of the next day\n",
    "        Y.append(close_prices[t + window_size])\n",
    "\n",
    "    return np.array(X), np.array(Y)"
   ],
   "outputs": [],
   "execution_count": 9
  },
  {
   "metadata": {
    "colab": {
     "base_uri": "https://localhost:8080/"
    },
    "id": "dwfDRniOGGF3",
    "outputId": "a0f10550-93e5-40c4-c546-0b89780aff8d",
    "ExecuteTime": {
     "end_time": "2025-02-06T11:32:36.329926Z",
     "start_time": "2025-02-06T11:32:09.312676Z"
    }
   },
   "cell_type": "code",
   "source": [
    "reset_seed()  # For reproducibility\n",
    "\n",
    "# Generate dataset\n",
    "X, Y = generate_dataset_with_chronos(covariates, close_prices, pipeline, window_size=50)\n",
    "\n",
    "# Print dataset dimensions for confirmation\n",
    "print(f\"Dataset X shape: {X.shape}\")\n",
    "print(f\"Dataset Y shape: {Y.shape}\")"
   ],
   "outputs": [
    {
     "output_type": "stream",
     "name": "stdout",
     "text": [
      "Dataset X shape: (3472, 4)\n",
      "Dataset Y shape: (3472, 1)\n"
     ]
    }
   ],
   "execution_count": 10
  },
  {
   "metadata": {
    "id": "AKyiEzBqGGF3"
   },
   "cell_type": "markdown",
   "source": "### Neural Network training"
  },
  {
   "metadata": {},
   "cell_type": "markdown",
   "source": "#### Dataset preparation: scale, split, and convert to tensors"
  },
  {
   "cell_type": "code",
   "source": [
    "reset_seed()  # For reproducibility\n",
    "\n",
    "# Normalize covariates\n",
    "scaler_x = StandardScaler()\n",
    "X = scaler_x.fit_transform(X)\n",
    "\n",
    "# Normalize target variable\n",
    "scaler_y = StandardScaler()\n",
    "Y = scaler_y.fit_transform(Y)\n",
    "\n",
    "# Split data into training and validation\n",
    "X_train_split, X_val_split, Y_train_split, Y_val_split = train_test_split(X, Y, test_size=0.2, random_state=seed)\n",
    "\n",
    "# Convert to PyTorch tensors\n",
    "X_train_split = torch.tensor(X_train_split, dtype=torch.float32)\n",
    "X_val_split = torch.tensor(X_val_split, dtype=torch.float32)\n",
    "Y_train_split = torch.tensor(Y_train_split, dtype=torch.float32)\n",
    "Y_val_split = torch.tensor(Y_val_split, dtype=torch.float32)\n",
    "\n",
    "# Print dimensions for confirmation\n",
    "print(f\"X_train shape: {X_train_split.shape}, Y_train shape: {Y_train_split.shape}\")\n",
    "print(f\"X_val shape: {X_val_split.shape}, Y_val shape: {Y_val_split.shape}\")"
   ],
   "metadata": {
    "colab": {
     "base_uri": "https://localhost:8080/"
    },
    "id": "JAbh2j7ymqhA",
    "outputId": "4d8e6810-410a-45d7-9c29-8fbda2bfc14d"
   },
   "execution_count": 11,
   "outputs": [
    {
     "output_type": "stream",
     "name": "stdout",
     "text": [
      "X_train shape: torch.Size([2777, 4]), Y_train shape: torch.Size([2777, 1])\n",
      "X_val shape: torch.Size([695, 4]), Y_val shape: torch.Size([695, 1])\n"
     ]
    }
   ]
  },
  {
   "metadata": {
    "id": "8vt8P07GGGF4"
   },
   "cell_type": "markdown",
   "source": [
    "#### Neural Network definition"
   ]
  },
  {
   "cell_type": "code",
   "source": [
    "class PricePredictionNN(nn.Module):\n",
    "    \"\"\"\n",
    "    Neural Network for price prediction.\n",
    "    Architecture: 3 fully connected layers with ReLU activation and dropout.\n",
    "    \"\"\"\n",
    "\n",
    "    def __init__(self, input_size, hidden_size_1, hidden_size_2, output_size):\n",
    "        super(PricePredictionNN, self).__init__()\n",
    "        self.fc1 = nn.Linear(input_size, hidden_size_1)\n",
    "        self.relu1 = nn.ReLU()\n",
    "        self.dropout1 = nn.Dropout(0.1)\n",
    "        self.fc2 = nn.Linear(hidden_size_1, hidden_size_2)\n",
    "        self.relu2 = nn.ReLU()\n",
    "        self.dropout2 = nn.Dropout(0.1)\n",
    "        self.fc3 = nn.Linear(hidden_size_2, output_size)\n",
    "\n",
    "    def forward(self, x):\n",
    "        x = self.dropout1(self.relu1(self.fc1(x)))\n",
    "        x = self.dropout2(self.relu2(self.fc2(x)))\n",
    "        x = self.fc3(x)\n",
    "        return x"
   ],
   "metadata": {
    "id": "1Pivdl3ontyy"
   },
   "execution_count": 12,
   "outputs": []
  },
  {
   "metadata": {
    "id": "aAXQAxwNGGF5"
   },
   "cell_type": "markdown",
   "source": [
    "#### Neural Network training"
   ]
  },
  {
   "cell_type": "code",
   "source": [
    "# Hyperparameters\n",
    "LR = 0.001  # Initial learning rate\n",
    "WEIGHT_DECAY = 4e-5  # Regularization\n",
    "STEP_SIZE = [150, 300, 600]  # Number of epochs before decreasing LR\n",
    "GAMMA = 0.1  # Multiplicative factor for learning rate step-down"
   ],
   "metadata": {
    "id": "LDP3RzgmqAob"
   },
   "execution_count": 13,
   "outputs": []
  },
  {
   "cell_type": "code",
   "source": [
    "reset_seed()  # For reproducibility\n",
    "\n",
    "# Model creation\n",
    "input_size = X.shape[1]  # Feature number\n",
    "hidden_size_1 = 128  # Number of hidden units in first hidden layer\n",
    "hidden_size_2 = 64  # Number of hidden units in second hidden layer\n",
    "output_size = 1  # Output size (1 for regression)\n",
    "model = PricePredictionNN(input_size, hidden_size_1, hidden_size_2, output_size)\n",
    "\n",
    "# Optimizer and loss function\n",
    "optimizer = optim.Adam(model.parameters(), lr=LR, weight_decay=WEIGHT_DECAY, eps=1e-4)\n",
    "criterion = nn.MSELoss()  # Mean Squared Error because it's a regression problem\n",
    "scheduler = MultiStepLR(optimizer, milestones=STEP_SIZE, gamma=GAMMA)\n",
    "\n",
    "# Create DataLoader for training\n",
    "batch_size = 32\n",
    "train_dataset = TensorDataset(X_train_split, Y_train_split)\n",
    "val_dataset = TensorDataset(X_val_split, Y_val_split)\n",
    "\n",
    "train_loader = DataLoader(train_dataset, batch_size=batch_size, shuffle=True)\n",
    "val_loader = DataLoader(val_dataset, batch_size=batch_size, shuffle=False)\n",
    "\n",
    "# Early stopping\n",
    "best_loss = float(\"inf\")\n",
    "patience = 100  # Maximum number of epochs without improvement\n",
    "patience_counter = 0\n",
    "\n",
    "loss_history = []\n",
    "loss_history_val = []\n",
    "\n",
    "# Initialize training\n",
    "num_epochs = 1000\n",
    "model.train()\n",
    "\n",
    "for epoch in range(num_epochs):\n",
    "    train_loss = 0.0\n",
    "\n",
    "    # Training loop\n",
    "    for batch_X, batch_Y in train_loader:\n",
    "        optimizer.zero_grad()\n",
    "\n",
    "        # Forward pass\n",
    "        predictions = model(batch_X)\n",
    "        loss = criterion(predictions, batch_Y)\n",
    "\n",
    "        # Backpropagation and optimization\n",
    "        loss.backward()\n",
    "        optimizer.step()\n",
    "\n",
    "        train_loss += loss.item()\n",
    "\n",
    "    train_loss /= len(train_loader)  # Average loss per batch\n",
    "    loss_history.append(train_loss)\n",
    "\n",
    "    # Validation loop\n",
    "    model.eval()\n",
    "    val_loss = 0.0\n",
    "    val_predictions_list = []\n",
    "\n",
    "    with torch.no_grad():\n",
    "        for batch_X, batch_Y in val_loader:\n",
    "            val_predictions = model(batch_X)\n",
    "            val_predictions_list.append(val_predictions.numpy())  # Save predictions\n",
    "\n",
    "            loss = criterion(val_predictions, batch_Y)\n",
    "            val_loss += loss.item()\n",
    "\n",
    "    # Convert the list to a numpy array\n",
    "    val_predictions = np.concatenate(val_predictions_list, axis=0)\n",
    "\n",
    "    # Convert back to original scale\n",
    "    val_predictions_original = scaler_y.inverse_transform(val_predictions)\n",
    "\n",
    "    val_loss /= len(val_loader)  # Average loss per batch\n",
    "    loss_history_val.append(val_loss)\n",
    "\n",
    "    # Learning rate scheduler step\n",
    "    scheduler.step()\n",
    "\n",
    "    current_lr = optimizer.param_groups[0]['lr']\n",
    "    print(f\"Epoch {epoch}/{num_epochs} (LR={current_lr}), Training Loss: {train_loss:.4f}, Validation Loss: {val_loss:.4f}\")\n",
    "\n",
    "    # Early Stopping\n",
    "    if val_loss < best_loss:\n",
    "        best_loss = val_loss\n",
    "        patience_counter = 0\n",
    "        torch.save(model.state_dict(), \"nn_model.pth\")  # Save the best model\n",
    "    else:\n",
    "        patience_counter += 1\n",
    "\n",
    "    if patience_counter >= patience:\n",
    "        print(f\"Early stopping at epoch {epoch + 1}\")\n",
    "        break\n",
    "\n",
    "    # Interrupt training if loss drops below 0.001 (early stopping)\n",
    "    if train_loss < 0.001:\n",
    "        print(f\"Training stopped at epoch {epoch + 1} because training loss < 0.001\")\n",
    "        break\n",
    "\n",
    "# Plot loss history\n",
    "plt.figure(figsize=(10, 6))\n",
    "plt.plot(range(1, len(loss_history) + 1), loss_history, label=\"Training Loss\")\n",
    "plt.plot(range(1, len(loss_history_val) + 1), loss_history_val, label=\"Validation Loss\")\n",
    "plt.yscale(\"log\")  # Use log scale to better see the loss decrease\n",
    "plt.ylim([min(loss_history_val + loss_history) * 0.9, max(loss_history) * 1.1])  # Auto-adjust Y scale\n",
    "plt.xlabel(\"Epoch\")\n",
    "plt.ylabel(\"Loss\")\n",
    "plt.title(\"Training Loss History\")\n",
    "plt.legend()\n",
    "plt.show()"
   ],
   "metadata": {
    "colab": {
     "base_uri": "https://localhost:8080/",
     "height": 686
    },
    "id": "GRByVjtnqYi4",
    "outputId": "4b416693-edcf-4f5c-ac60-e2ad80996257"
   },
   "execution_count": 14,
   "outputs": [
    {
     "output_type": "stream",
     "name": "stdout",
     "text": [
      "Epoch 0/1000 (LR=0.001), Training Loss: 0.0718, Validation Loss: 0.0023\n",
      "Epoch 1/1000 (LR=0.001), Training Loss: 0.0013, Validation Loss: 0.0008\n",
      "Epoch 2/1000 (LR=0.001), Training Loss: 0.0011, Validation Loss: 0.0009\n",
      "Epoch 3/1000 (LR=0.001), Training Loss: 0.0010, Validation Loss: 0.0008\n",
      "Epoch 4/1000 (LR=0.001), Training Loss: 0.0010, Validation Loss: 0.0009\n",
      "Epoch 5/1000 (LR=0.001), Training Loss: 0.0010, Validation Loss: 0.0011\n",
      "Training stopped at epoch 6 because training loss < 0.001\n"
     ]
    },
    {
     "output_type": "display_data",
     "data": {
      "text/plain": [
       "<Figure size 1000x600 with 1 Axes>"
      ],
      "image/png": "[encoded data removed]"
     },
     "metadata": {}
    }
   ]
  },
  {
   "metadata": {
    "id": "Q4Xm0oOFGGF6"
   },
   "cell_type": "code",
   "outputs": [],
   "execution_count": 15,
   "source": [
    "# Save the model\n",
    "torch.save(model.state_dict(), \"nn_model.pth\")\n",
    "\n",
    "# Load the model\n",
    "# model.load_state_dict(torch.load(\"best_model.pth\"))"
   ]
  },
  {
   "metadata": {},
   "cell_type": "markdown",
   "source": "#### Result comparison (Chronos+NN vs Chronos-only)"
  },
  {
   "metadata": {
    "colab": {
     "base_uri": "https://localhost:8080/",
     "height": 619
    },
    "id": "X2OHUgF8wih_",
    "outputId": "cb6ebdb2-22cd-48b3-de20-ca2b92762c26"
   },
   "cell_type": "code",
   "outputs": [
    {
     "output_type": "stream",
     "name": "stderr",
     "text": [
      "<ipython-input-18-62581afeb251>:31: FutureWarning: You are using `torch.load` with `weights_only=False` (the current default value), which uses the default pickle module implicitly. It is possible to construct malicious pickle data which will execute arbitrary code during unpickling (See https://github.com/pytorch/pytorch/blob/main/SECURITY.md#untrusted-models for more details). In a future release, the default value for `weights_only` will be flipped to `True`. This limits the functions that could be executed during unpickling. Arbitrary objects will no longer be allowed to be loaded via this mode unless they are explicitly allowlisted by the user via `torch.serialization.add_safe_globals`. We recommend you start setting `weights_only=True` for any use case where you don't have full control of the loaded file. Please open an issue on GitHub for any issues related to this experimental feature.\n",
      "  model.load_state_dict(torch.load(\"nn_model.pth\"))\n"
     ]
    },
    {
     "output_type": "display_data",
     "data": {
      "text/plain": [
       "<Figure size 1000x600 with 1 Axes>"
      ],
      "image/png": "[encoded data removed]"
     },
     "metadata": {}
    }
   ],
   "execution_count": 18,
   "source": [
    "# Test on new data (from 2024), plotting the true value, the value predicted by our NN and the value predicted by Chronos, to compare them\n",
    "reset_seed()  # For reproducibility\n",
    "\n",
    "# New data\n",
    "new_data = yf.download(symbol, start=\"2024-01-01\", end=\"2024-03-31\", progress=False)\n",
    "new_data = new_data.reset_index()\n",
    "new_covariates = new_data[[\"Open\", \"High\", \"Low\", \"Close\"]].values\n",
    "new_close_prices = new_data[\"Close\"].values\n",
    "\n",
    "prediction_length = 10  # Number of days to predict\n",
    "\n",
    "# Split the data to \"context\" and \"test\" data\n",
    "data_to_predict = new_covariates[-prediction_length:]\n",
    "values_to_predict = new_close_prices[-prediction_length:]\n",
    "context_covariates = new_covariates[:-prediction_length]\n",
    "context_close_prices = new_close_prices[:-prediction_length]\n",
    "\n",
    "# Apply Chronos on each covariate (each column of new_covariates)\n",
    "covariate_predictions = []\n",
    "for i in range(data_to_predict.shape[1]):\n",
    "    context = torch.tensor(context_covariates[:, i])  # Univariate series\n",
    "    forecast = pipeline.predict(context=context, prediction_length=prediction_length)  # Predict the next days\n",
    "    means = np.mean(forecast[0].numpy(), axis=0)  # Distribution mean\n",
    "    covariate_predictions.append(means)\n",
    "\n",
    "# Scale and convert to PyTorch tensor\n",
    "covariate_predictions = scaler_x.transform(np.array(covariate_predictions).T)\n",
    "covariate_predictions = torch.tensor(covariate_predictions, dtype=torch.float32)\n",
    "\n",
    "# Apply the NN model to join the covariate predictions (5 x prediction_length) into a univariate prediction (prediction_length)\n",
    "model.load_state_dict(torch.load(\"nn_model.pth\"))\n",
    "model.eval()\n",
    "with torch.no_grad():\n",
    "    univariate_predictions = model(covariate_predictions)\n",
    "\n",
    "# Reverse the scaling\n",
    "univariate_predictions = scaler_y.inverse_transform(univariate_predictions)\n",
    "\n",
    "# Data index for plotting context and test data\n",
    "historical_index = np.arange(len(context_close_prices))  # Historical data\n",
    "test_index = np.arange(len(context_close_prices), len(context_close_prices) + prediction_length)  # Test data\n",
    "\n",
    "# For comparison, also compute the forecast using Chronos only applied to the close price directly\n",
    "\n",
    "# Reduce context and prediction length for Chronos\n",
    "chronos_context = torch.tensor(context_close_prices, dtype=torch.float32)\n",
    "chronos_forecast = pipeline.predict(context=chronos_context, prediction_length=prediction_length)\n",
    "low, median, high = np.quantile(chronos_forecast[0].numpy(), [0.1, 0.5, 0.9], axis=0)\n",
    "chronos_only_forecast = np.mean(chronos_forecast[0].numpy(), axis=0)\n",
    "\n",
    "# Plot the forecasts\n",
    "plt.figure(figsize=(10, 6))\n",
    "\n",
    "plt.plot(test_index, univariate_predictions, color=\"tomato\", label=\"Predicted Prices\")  # Chronos+NN forecast\n",
    "plt.plot(test_index, chronos_only_forecast, color=\"green\", label=\"Chronos Mean Forecast\")  # Chronos-only forecast\n",
    "plt.fill_between(test_index, low, high, color=\"skyblue\", alpha=0.4, label=\"Chronos 80% Prediction Interval\")  # Chronos-only confidence\n",
    "\n",
    "# Plot the history\n",
    "plt.plot(historical_index, context_close_prices, color=\"royalblue\", label=\"Historical Data\", linestyle='--')  # Historical data\n",
    "\n",
    "# Plot the \"real\" line\n",
    "plt.plot(test_index, values_to_predict, color=\"purple\", label=\"Real Prices\")  # Real data, only for the test period\n",
    "\n",
    "plt.title(f\"{symbol} Close Price Forecast\")\n",
    "plt.xlabel(\"Time\")\n",
    "plt.ylabel(\"Close Price\")\n",
    "plt.legend()\n",
    "plt.grid()\n",
    "plt.show()"
   ]
  },
  {
   "metadata": {
    "colab": {
     "base_uri": "https://localhost:8080/"
    },
    "id": "JmnjxK2TK1LV",
    "outputId": "5762219e-82af-4c5a-99ad-87cad80c4139"
   },
   "cell_type": "code",
   "outputs": [
    {
     "output_type": "stream",
     "name": "stdout",
     "text": [
      "PERFORMANCE METRICS:\n",
      "                      MSE      RMSE      MAPE      MASE\n",
      "Neural Network   6.696906  2.587838  1.042022  1.097792\n",
      "Chronos         67.838461  8.236411  3.346920  3.470382\n",
      "-------------------------------------------------\n",
      "SCALING PERFORMANCE (Preprocessing vs Chronos Only Close):\n",
      "MSE     0.098718\n",
      "RMSE    0.314195\n",
      "MAPE    0.311338\n",
      "MASE    0.316332\n",
      "dtype: float64\n"
     ]
    },
    {
     "output_type": "stream",
     "name": "stderr",
     "text": [
      "<ipython-input-19-40c3c72c08fe>:26: FutureWarning: using <function gmean at 0x7801159999e0> in Series.agg cannot aggregate and has been deprecated. Use Series.transform to keep behavior unchanged.\n",
      "  return relative_score.agg(gmean)  # Geometric mean of improvements\n"
     ]
    }
   ],
   "execution_count": 19,
   "source": [
    "from scipy.stats import gmean\n",
    "\n",
    "\n",
    "# Evaluation metrics\n",
    "def mase(y_true, y_pred, y_train):\n",
    "    \"\"\"\n",
    "    Compute the Mean Absolute Scaled Error (MASE)\n",
    "    y_true: true values\n",
    "    y_pred: predicted values\n",
    "    y_train: historical series to calculate the naive benchmark\n",
    "    \"\"\"\n",
    "\n",
    "    naive_forecast = np.abs(np.diff(y_train)).mean()  # Naive Model: mean differences between successive values\n",
    "    return np.mean(np.abs(y_true - y_pred)) / naive_forecast\n",
    "\n",
    "\n",
    "def compute_metrics(y_true, y_pred, y_train):\n",
    "    mse = mean_squared_error(y_true, y_pred)\n",
    "    rmse = np.sqrt(mse)\n",
    "    mape = np.mean(np.abs((y_true - y_pred) / y_true)) * 100\n",
    "    mase_score = mase(y_true, y_pred, y_train)\n",
    "    return { \"MSE\": mse, \"RMSE\": rmse, \"MAPE\": mape, \"MASE\": mase_score }\n",
    "\n",
    "\n",
    "def agg_relative_score(model_df: pd.DataFrame, baseline_df: pd.DataFrame):\n",
    "    relative_score = model_df / baseline_df  # Ratio between model and baseline\n",
    "    return relative_score.agg(gmean)  # Geometric mean of improvements\n",
    "\n",
    "\n",
    "# Compute metrics\n",
    "results = { }\n",
    "results['Neural Network'] = compute_metrics(values_to_predict, univariate_predictions, context_close_prices.reshape(-1))\n",
    "results['Chronos'] = compute_metrics(values_to_predict, chronos_only_forecast, context_close_prices.reshape(-1))\n",
    "results = pd.DataFrame(results).T\n",
    "\n",
    "print(\"PERFORMANCE METRICS:\")\n",
    "print(results)\n",
    "\n",
    "# Compute relative performance\n",
    "relative_scores = agg_relative_score(results.loc['Neural Network'], results.loc['Chronos'])\n",
    "print(\"-------------------------------------------------\")\n",
    "print(\"SCALING PERFORMANCE (Preprocessing vs Chronos Only Close):\")\n",
    "print(relative_scores)"
   ]
  }
 ]
}
