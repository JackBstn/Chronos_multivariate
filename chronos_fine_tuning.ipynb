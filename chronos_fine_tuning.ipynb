{
  "nbformat": 4,
  "nbformat_minor": 0,
  "metadata": {
    "colab": {
      "provenance": [],
      "gpuType": "T4"
    },
    "kernelspec": {
      "name": "python3",
      "display_name": "Python 3"
    },
    "language_info": {
      "name": "python"
    },
    "accelerator": "GPU"
  },
  "cells": [
    {
      "cell_type": "code",
      "source": [
        "!pip install yfinance\n",
        "!git clone https://github.com/amazon-science/chronos-forecasting.git\n",
        "%cd chronos-forecasting\n",
        "!pip install -e .[training]"
      ],
      "metadata": {
        "colab": {
          "base_uri": "https://localhost:8080/"
        },
        "id": "k3MQndzbI5_n",
        "outputId": "a4a54d2d-e0b5-4d6d-c35b-faa7f6652d3f"
      },
      "execution_count": 1,
      "outputs": [
        {
          "output_type": "stream",
          "name": "stdout",
          "text": [
            "Requirement already satisfied: yfinance in /usr/local/lib/python3.11/dist-packages (0.2.52)\n",
            "Requirement already satisfied: pandas>=1.3.0 in /usr/local/lib/python3.11/dist-packages (from yfinance) (2.2.2)\n",
            "Requirement already satisfied: numpy>=1.16.5 in /usr/local/lib/python3.11/dist-packages (from yfinance) (1.26.4)\n",
            "Requirement already satisfied: requests>=2.31 in /usr/local/lib/python3.11/dist-packages (from yfinance) (2.32.3)\n",
            "Requirement already satisfied: multitasking>=0.0.7 in /usr/local/lib/python3.11/dist-packages (from yfinance) (0.0.11)\n",
            "Requirement already satisfied: lxml>=4.9.1 in /usr/local/lib/python3.11/dist-packages (from yfinance) (5.3.0)\n",
            "Requirement already satisfied: platformdirs>=2.0.0 in /usr/local/lib/python3.11/dist-packages (from yfinance) (4.3.6)\n",
            "Requirement already satisfied: pytz>=2022.5 in /usr/local/lib/python3.11/dist-packages (from yfinance) (2024.2)\n",
            "Requirement already satisfied: frozendict>=2.3.4 in /usr/local/lib/python3.11/dist-packages (from yfinance) (2.4.6)\n",
            "Requirement already satisfied: peewee>=3.16.2 in /usr/local/lib/python3.11/dist-packages (from yfinance) (3.17.8)\n",
            "Requirement already satisfied: beautifulsoup4>=4.11.1 in /usr/local/lib/python3.11/dist-packages (from yfinance) (4.12.3)\n",
            "Requirement already satisfied: html5lib>=1.1 in /usr/local/lib/python3.11/dist-packages (from yfinance) (1.1)\n",
            "Requirement already satisfied: soupsieve>1.2 in /usr/local/lib/python3.11/dist-packages (from beautifulsoup4>=4.11.1->yfinance) (2.6)\n",
            "Requirement already satisfied: six>=1.9 in /usr/local/lib/python3.11/dist-packages (from html5lib>=1.1->yfinance) (1.17.0)\n",
            "Requirement already satisfied: webencodings in /usr/local/lib/python3.11/dist-packages (from html5lib>=1.1->yfinance) (0.5.1)\n",
            "Requirement already satisfied: python-dateutil>=2.8.2 in /usr/local/lib/python3.11/dist-packages (from pandas>=1.3.0->yfinance) (2.8.2)\n",
            "Requirement already satisfied: tzdata>=2022.7 in /usr/local/lib/python3.11/dist-packages (from pandas>=1.3.0->yfinance) (2025.1)\n",
            "Requirement already satisfied: charset-normalizer<4,>=2 in /usr/local/lib/python3.11/dist-packages (from requests>=2.31->yfinance) (3.4.1)\n",
            "Requirement already satisfied: idna<4,>=2.5 in /usr/local/lib/python3.11/dist-packages (from requests>=2.31->yfinance) (3.10)\n",
            "Requirement already satisfied: urllib3<3,>=1.21.1 in /usr/local/lib/python3.11/dist-packages (from requests>=2.31->yfinance) (2.3.0)\n",
            "Requirement already satisfied: certifi>=2017.4.17 in /usr/local/lib/python3.11/dist-packages (from requests>=2.31->yfinance) (2024.12.14)\n",
            "Cloning into 'chronos-forecasting'...\n",
            "remote: Enumerating objects: 449, done.\u001b[K\n",
            "remote: Counting objects: 100% (228/228), done.\u001b[K\n",
            "remote: Compressing objects: 100% (142/142), done.\u001b[K\n",
            "remote: Total 449 (delta 168), reused 86 (delta 86), pack-reused 221 (from 2)\u001b[K\n",
            "Receiving objects: 100% (449/449), 1008.56 KiB | 3.15 MiB/s, done.\n",
            "Resolving deltas: 100% (188/188), done.\n",
            "/content/chronos-forecasting\n",
            "Obtaining file:///content/chronos-forecasting\n",
            "  Installing build dependencies ... \u001b[?25l\u001b[?25hdone\n",
            "  Checking if build backend supports build_editable ... \u001b[?25l\u001b[?25hdone\n",
            "  Getting requirements to build editable ... \u001b[?25l\u001b[?25hdone\n",
            "  Installing backend dependencies ... \u001b[?25l\u001b[?25hdone\n",
            "  Preparing editable metadata (pyproject.toml) ... \u001b[?25l\u001b[?25hdone\n",
            "Collecting accelerate<1,>=0.32 (from chronos-forecasting==1.4.1)\n",
            "  Downloading accelerate-0.34.2-py3-none-any.whl.metadata (19 kB)\n",
            "Requirement already satisfied: torch<2.6,>=2.0 in /usr/local/lib/python3.11/dist-packages (from chronos-forecasting==1.4.1) (2.5.1+cu124)\n",
            "Requirement already satisfied: transformers<4.48,>=4.30 in /usr/local/lib/python3.11/dist-packages (from chronos-forecasting==1.4.1) (4.47.1)\n",
            "Collecting datasets~=2.18 (from chronos-forecasting==1.4.1)\n",
            "  Downloading datasets-2.21.0-py3-none-any.whl.metadata (21 kB)\n",
            "Collecting gluonts~=0.15 (from gluonts[pro]~=0.15; extra == \"training\"->chronos-forecasting==1.4.1)\n",
            "  Downloading gluonts-0.16.0-py3-none-any.whl.metadata (9.8 kB)\n",
            "Requirement already satisfied: joblib in /usr/local/lib/python3.11/dist-packages (from chronos-forecasting==1.4.1) (1.4.2)\n",
            "Requirement already satisfied: numpy~=1.21 in /usr/local/lib/python3.11/dist-packages (from chronos-forecasting==1.4.1) (1.26.4)\n",
            "Requirement already satisfied: scikit-learn in /usr/local/lib/python3.11/dist-packages (from chronos-forecasting==1.4.1) (1.6.1)\n",
            "Requirement already satisfied: tensorboard in /usr/local/lib/python3.11/dist-packages (from chronos-forecasting==1.4.1) (2.18.0)\n",
            "Requirement already satisfied: typer in /usr/local/lib/python3.11/dist-packages (from chronos-forecasting==1.4.1) (0.15.1)\n",
            "Collecting typer-config (from chronos-forecasting==1.4.1)\n",
            "  Downloading typer_config-1.4.2-py3-none-any.whl.metadata (4.3 kB)\n",
            "Requirement already satisfied: packaging>=20.0 in /usr/local/lib/python3.11/dist-packages (from accelerate<1,>=0.32->chronos-forecasting==1.4.1) (24.2)\n",
            "Requirement already satisfied: psutil in /usr/local/lib/python3.11/dist-packages (from accelerate<1,>=0.32->chronos-forecasting==1.4.1) (5.9.5)\n",
            "Requirement already satisfied: pyyaml in /usr/local/lib/python3.11/dist-packages (from accelerate<1,>=0.32->chronos-forecasting==1.4.1) (6.0.2)\n",
            "Requirement already satisfied: huggingface-hub>=0.21.0 in /usr/local/lib/python3.11/dist-packages (from accelerate<1,>=0.32->chronos-forecasting==1.4.1) (0.27.1)\n",
            "Requirement already satisfied: safetensors>=0.4.3 in /usr/local/lib/python3.11/dist-packages (from accelerate<1,>=0.32->chronos-forecasting==1.4.1) (0.5.2)\n",
            "Requirement already satisfied: filelock in /usr/local/lib/python3.11/dist-packages (from datasets~=2.18->chronos-forecasting==1.4.1) (3.17.0)\n",
            "Requirement already satisfied: pyarrow>=15.0.0 in /usr/local/lib/python3.11/dist-packages (from datasets~=2.18->chronos-forecasting==1.4.1) (17.0.0)\n",
            "Collecting dill<0.3.9,>=0.3.0 (from datasets~=2.18->chronos-forecasting==1.4.1)\n",
            "  Downloading dill-0.3.8-py3-none-any.whl.metadata (10 kB)\n",
            "Requirement already satisfied: pandas in /usr/local/lib/python3.11/dist-packages (from datasets~=2.18->chronos-forecasting==1.4.1) (2.2.2)\n",
            "Requirement already satisfied: requests>=2.32.2 in /usr/local/lib/python3.11/dist-packages (from datasets~=2.18->chronos-forecasting==1.4.1) (2.32.3)\n",
            "Requirement already satisfied: tqdm>=4.66.3 in /usr/local/lib/python3.11/dist-packages (from datasets~=2.18->chronos-forecasting==1.4.1) (4.67.1)\n",
            "Collecting xxhash (from datasets~=2.18->chronos-forecasting==1.4.1)\n",
            "  Downloading xxhash-3.5.0-cp311-cp311-manylinux_2_17_x86_64.manylinux2014_x86_64.whl.metadata (12 kB)\n",
            "Collecting multiprocess (from datasets~=2.18->chronos-forecasting==1.4.1)\n",
            "  Downloading multiprocess-0.70.17-py311-none-any.whl.metadata (7.2 kB)\n",
            "Collecting fsspec<=2024.6.1,>=2023.1.0 (from fsspec[http]<=2024.6.1,>=2023.1.0->datasets~=2.18->chronos-forecasting==1.4.1)\n",
            "  Downloading fsspec-2024.6.1-py3-none-any.whl.metadata (11 kB)\n",
            "Requirement already satisfied: aiohttp in /usr/local/lib/python3.11/dist-packages (from datasets~=2.18->chronos-forecasting==1.4.1) (3.11.11)\n",
            "Requirement already satisfied: pydantic<3,>=1.7 in /usr/local/lib/python3.11/dist-packages (from gluonts~=0.15->gluonts[pro]~=0.15; extra == \"training\"->chronos-forecasting==1.4.1) (2.10.6)\n",
            "Requirement already satisfied: toolz~=0.10 in /usr/local/lib/python3.11/dist-packages (from gluonts~=0.15->gluonts[pro]~=0.15; extra == \"training\"->chronos-forecasting==1.4.1) (0.12.1)\n",
            "Requirement already satisfied: typing-extensions~=4.0 in /usr/local/lib/python3.11/dist-packages (from gluonts~=0.15->gluonts[pro]~=0.15; extra == \"training\"->chronos-forecasting==1.4.1) (4.12.2)\n",
            "Requirement already satisfied: orjson in /usr/local/lib/python3.11/dist-packages (from gluonts[pro]~=0.15; extra == \"training\"->chronos-forecasting==1.4.1) (3.10.15)\n",
            "Requirement already satisfied: networkx in /usr/local/lib/python3.11/dist-packages (from torch<2.6,>=2.0->chronos-forecasting==1.4.1) (3.4.2)\n",
            "Requirement already satisfied: jinja2 in /usr/local/lib/python3.11/dist-packages (from torch<2.6,>=2.0->chronos-forecasting==1.4.1) (3.1.5)\n",
            "Collecting nvidia-cuda-nvrtc-cu12==12.4.127 (from torch<2.6,>=2.0->chronos-forecasting==1.4.1)\n",
            "  Downloading nvidia_cuda_nvrtc_cu12-12.4.127-py3-none-manylinux2014_x86_64.whl.metadata (1.5 kB)\n",
            "Collecting nvidia-cuda-runtime-cu12==12.4.127 (from torch<2.6,>=2.0->chronos-forecasting==1.4.1)\n",
            "  Downloading nvidia_cuda_runtime_cu12-12.4.127-py3-none-manylinux2014_x86_64.whl.metadata (1.5 kB)\n",
            "Collecting nvidia-cuda-cupti-cu12==12.4.127 (from torch<2.6,>=2.0->chronos-forecasting==1.4.1)\n",
            "  Downloading nvidia_cuda_cupti_cu12-12.4.127-py3-none-manylinux2014_x86_64.whl.metadata (1.6 kB)\n",
            "Collecting nvidia-cudnn-cu12==9.1.0.70 (from torch<2.6,>=2.0->chronos-forecasting==1.4.1)\n",
            "  Downloading nvidia_cudnn_cu12-9.1.0.70-py3-none-manylinux2014_x86_64.whl.metadata (1.6 kB)\n",
            "Collecting nvidia-cublas-cu12==12.4.5.8 (from torch<2.6,>=2.0->chronos-forecasting==1.4.1)\n",
            "  Downloading nvidia_cublas_cu12-12.4.5.8-py3-none-manylinux2014_x86_64.whl.metadata (1.5 kB)\n",
            "Collecting nvidia-cufft-cu12==11.2.1.3 (from torch<2.6,>=2.0->chronos-forecasting==1.4.1)\n",
            "  Downloading nvidia_cufft_cu12-11.2.1.3-py3-none-manylinux2014_x86_64.whl.metadata (1.5 kB)\n",
            "Collecting nvidia-curand-cu12==10.3.5.147 (from torch<2.6,>=2.0->chronos-forecasting==1.4.1)\n",
            "  Downloading nvidia_curand_cu12-10.3.5.147-py3-none-manylinux2014_x86_64.whl.metadata (1.5 kB)\n",
            "Collecting nvidia-cusolver-cu12==11.6.1.9 (from torch<2.6,>=2.0->chronos-forecasting==1.4.1)\n",
            "  Downloading nvidia_cusolver_cu12-11.6.1.9-py3-none-manylinux2014_x86_64.whl.metadata (1.6 kB)\n",
            "Collecting nvidia-cusparse-cu12==12.3.1.170 (from torch<2.6,>=2.0->chronos-forecasting==1.4.1)\n",
            "  Downloading nvidia_cusparse_cu12-12.3.1.170-py3-none-manylinux2014_x86_64.whl.metadata (1.6 kB)\n",
            "Requirement already satisfied: nvidia-nccl-cu12==2.21.5 in /usr/local/lib/python3.11/dist-packages (from torch<2.6,>=2.0->chronos-forecasting==1.4.1) (2.21.5)\n",
            "Requirement already satisfied: nvidia-nvtx-cu12==12.4.127 in /usr/local/lib/python3.11/dist-packages (from torch<2.6,>=2.0->chronos-forecasting==1.4.1) (12.4.127)\n",
            "Collecting nvidia-nvjitlink-cu12==12.4.127 (from torch<2.6,>=2.0->chronos-forecasting==1.4.1)\n",
            "  Downloading nvidia_nvjitlink_cu12-12.4.127-py3-none-manylinux2014_x86_64.whl.metadata (1.5 kB)\n",
            "Requirement already satisfied: triton==3.1.0 in /usr/local/lib/python3.11/dist-packages (from torch<2.6,>=2.0->chronos-forecasting==1.4.1) (3.1.0)\n",
            "Requirement already satisfied: sympy==1.13.1 in /usr/local/lib/python3.11/dist-packages (from torch<2.6,>=2.0->chronos-forecasting==1.4.1) (1.13.1)\n",
            "Requirement already satisfied: mpmath<1.4,>=1.1.0 in /usr/local/lib/python3.11/dist-packages (from sympy==1.13.1->torch<2.6,>=2.0->chronos-forecasting==1.4.1) (1.3.0)\n",
            "Requirement already satisfied: regex!=2019.12.17 in /usr/local/lib/python3.11/dist-packages (from transformers<4.48,>=4.30->chronos-forecasting==1.4.1) (2024.11.6)\n",
            "Requirement already satisfied: tokenizers<0.22,>=0.21 in /usr/local/lib/python3.11/dist-packages (from transformers<4.48,>=4.30->chronos-forecasting==1.4.1) (0.21.0)\n",
            "Requirement already satisfied: scipy>=1.6.0 in /usr/local/lib/python3.11/dist-packages (from scikit-learn->chronos-forecasting==1.4.1) (1.13.1)\n",
            "Requirement already satisfied: threadpoolctl>=3.1.0 in /usr/local/lib/python3.11/dist-packages (from scikit-learn->chronos-forecasting==1.4.1) (3.5.0)\n",
            "Requirement already satisfied: absl-py>=0.4 in /usr/local/lib/python3.11/dist-packages (from tensorboard->chronos-forecasting==1.4.1) (1.4.0)\n",
            "Requirement already satisfied: grpcio>=1.48.2 in /usr/local/lib/python3.11/dist-packages (from tensorboard->chronos-forecasting==1.4.1) (1.70.0)\n",
            "Requirement already satisfied: markdown>=2.6.8 in /usr/local/lib/python3.11/dist-packages (from tensorboard->chronos-forecasting==1.4.1) (3.7)\n",
            "Requirement already satisfied: protobuf!=4.24.0,>=3.19.6 in /usr/local/lib/python3.11/dist-packages (from tensorboard->chronos-forecasting==1.4.1) (4.25.6)\n",
            "Requirement already satisfied: setuptools>=41.0.0 in /usr/local/lib/python3.11/dist-packages (from tensorboard->chronos-forecasting==1.4.1) (75.1.0)\n",
            "Requirement already satisfied: six>1.9 in /usr/local/lib/python3.11/dist-packages (from tensorboard->chronos-forecasting==1.4.1) (1.17.0)\n",
            "Requirement already satisfied: tensorboard-data-server<0.8.0,>=0.7.0 in /usr/local/lib/python3.11/dist-packages (from tensorboard->chronos-forecasting==1.4.1) (0.7.2)\n",
            "Requirement already satisfied: werkzeug>=1.0.1 in /usr/local/lib/python3.11/dist-packages (from tensorboard->chronos-forecasting==1.4.1) (3.1.3)\n",
            "Requirement already satisfied: click>=8.0.0 in /usr/local/lib/python3.11/dist-packages (from typer->chronos-forecasting==1.4.1) (8.1.8)\n",
            "Requirement already satisfied: shellingham>=1.3.0 in /usr/local/lib/python3.11/dist-packages (from typer->chronos-forecasting==1.4.1) (1.5.4)\n",
            "Requirement already satisfied: rich>=10.11.0 in /usr/local/lib/python3.11/dist-packages (from typer->chronos-forecasting==1.4.1) (13.9.4)\n",
            "Requirement already satisfied: aiohappyeyeballs>=2.3.0 in /usr/local/lib/python3.11/dist-packages (from aiohttp->datasets~=2.18->chronos-forecasting==1.4.1) (2.4.4)\n",
            "Requirement already satisfied: aiosignal>=1.1.2 in /usr/local/lib/python3.11/dist-packages (from aiohttp->datasets~=2.18->chronos-forecasting==1.4.1) (1.3.2)\n",
            "Requirement already satisfied: attrs>=17.3.0 in /usr/local/lib/python3.11/dist-packages (from aiohttp->datasets~=2.18->chronos-forecasting==1.4.1) (25.1.0)\n",
            "Requirement already satisfied: frozenlist>=1.1.1 in /usr/local/lib/python3.11/dist-packages (from aiohttp->datasets~=2.18->chronos-forecasting==1.4.1) (1.5.0)\n",
            "Requirement already satisfied: multidict<7.0,>=4.5 in /usr/local/lib/python3.11/dist-packages (from aiohttp->datasets~=2.18->chronos-forecasting==1.4.1) (6.1.0)\n",
            "Requirement already satisfied: propcache>=0.2.0 in /usr/local/lib/python3.11/dist-packages (from aiohttp->datasets~=2.18->chronos-forecasting==1.4.1) (0.2.1)\n",
            "Requirement already satisfied: yarl<2.0,>=1.17.0 in /usr/local/lib/python3.11/dist-packages (from aiohttp->datasets~=2.18->chronos-forecasting==1.4.1) (1.18.3)\n",
            "Requirement already satisfied: python-dateutil>=2.8.2 in /usr/local/lib/python3.11/dist-packages (from pandas->datasets~=2.18->chronos-forecasting==1.4.1) (2.8.2)\n",
            "Requirement already satisfied: pytz>=2020.1 in /usr/local/lib/python3.11/dist-packages (from pandas->datasets~=2.18->chronos-forecasting==1.4.1) (2024.2)\n",
            "Requirement already satisfied: tzdata>=2022.7 in /usr/local/lib/python3.11/dist-packages (from pandas->datasets~=2.18->chronos-forecasting==1.4.1) (2025.1)\n",
            "Requirement already satisfied: annotated-types>=0.6.0 in /usr/local/lib/python3.11/dist-packages (from pydantic<3,>=1.7->gluonts~=0.15->gluonts[pro]~=0.15; extra == \"training\"->chronos-forecasting==1.4.1) (0.7.0)\n",
            "Requirement already satisfied: pydantic-core==2.27.2 in /usr/local/lib/python3.11/dist-packages (from pydantic<3,>=1.7->gluonts~=0.15->gluonts[pro]~=0.15; extra == \"training\"->chronos-forecasting==1.4.1) (2.27.2)\n",
            "Requirement already satisfied: charset-normalizer<4,>=2 in /usr/local/lib/python3.11/dist-packages (from requests>=2.32.2->datasets~=2.18->chronos-forecasting==1.4.1) (3.4.1)\n",
            "Requirement already satisfied: idna<4,>=2.5 in /usr/local/lib/python3.11/dist-packages (from requests>=2.32.2->datasets~=2.18->chronos-forecasting==1.4.1) (3.10)\n",
            "Requirement already satisfied: urllib3<3,>=1.21.1 in /usr/local/lib/python3.11/dist-packages (from requests>=2.32.2->datasets~=2.18->chronos-forecasting==1.4.1) (2.3.0)\n",
            "Requirement already satisfied: certifi>=2017.4.17 in /usr/local/lib/python3.11/dist-packages (from requests>=2.32.2->datasets~=2.18->chronos-forecasting==1.4.1) (2024.12.14)\n",
            "Requirement already satisfied: markdown-it-py>=2.2.0 in /usr/local/lib/python3.11/dist-packages (from rich>=10.11.0->typer->chronos-forecasting==1.4.1) (3.0.0)\n",
            "Requirement already satisfied: pygments<3.0.0,>=2.13.0 in /usr/local/lib/python3.11/dist-packages (from rich>=10.11.0->typer->chronos-forecasting==1.4.1) (2.18.0)\n",
            "Requirement already satisfied: MarkupSafe>=2.1.1 in /usr/local/lib/python3.11/dist-packages (from werkzeug>=1.0.1->tensorboard->chronos-forecasting==1.4.1) (3.0.2)\n",
            "INFO: pip is looking at multiple versions of multiprocess to determine which version is compatible with other requirements. This could take a while.\n",
            "Collecting multiprocess (from datasets~=2.18->chronos-forecasting==1.4.1)\n",
            "  Downloading multiprocess-0.70.16-py311-none-any.whl.metadata (7.2 kB)\n",
            "Requirement already satisfied: mdurl~=0.1 in /usr/local/lib/python3.11/dist-packages (from markdown-it-py>=2.2.0->rich>=10.11.0->typer->chronos-forecasting==1.4.1) (0.1.2)\n",
            "Downloading accelerate-0.34.2-py3-none-any.whl (324 kB)\n",
            "\u001b[2K   \u001b[90m━━━━━━━━━━━━━━━━━━━━━━━━━━━━━━━━━━━━━━━━\u001b[0m \u001b[32m324.4/324.4 kB\u001b[0m \u001b[31m11.4 MB/s\u001b[0m eta \u001b[36m0:00:00\u001b[0m\n",
            "\u001b[?25hDownloading datasets-2.21.0-py3-none-any.whl (527 kB)\n",
            "\u001b[2K   \u001b[90m━━━━━━━━━━━━━━━━━━━━━━━━━━━━━━━━━━━━━━━━\u001b[0m \u001b[32m527.3/527.3 kB\u001b[0m \u001b[31m28.2 MB/s\u001b[0m eta \u001b[36m0:00:00\u001b[0m\n",
            "\u001b[?25hDownloading gluonts-0.16.0-py3-none-any.whl (1.5 MB)\n",
            "\u001b[2K   \u001b[90m━━━━━━━━━━━━━━━━━━━━━━━━━━━━━━━━━━━━━━━━\u001b[0m \u001b[32m1.5/1.5 MB\u001b[0m \u001b[31m62.3 MB/s\u001b[0m eta \u001b[36m0:00:00\u001b[0m\n",
            "\u001b[?25hDownloading nvidia_cublas_cu12-12.4.5.8-py3-none-manylinux2014_x86_64.whl (363.4 MB)\n",
            "\u001b[2K   \u001b[90m━━━━━━━━━━━━━━━━━━━━━━━━━━━━━━━━━━━━━━━━\u001b[0m \u001b[32m363.4/363.4 MB\u001b[0m \u001b[31m3.6 MB/s\u001b[0m eta \u001b[36m0:00:00\u001b[0m\n",
            "\u001b[?25hDownloading nvidia_cuda_cupti_cu12-12.4.127-py3-none-manylinux2014_x86_64.whl (13.8 MB)\n",
            "\u001b[2K   \u001b[90m━━━━━━━━━━━━━━━━━━━━━━━━━━━━━━━━━━━━━━━━\u001b[0m \u001b[32m13.8/13.8 MB\u001b[0m \u001b[31m57.7 MB/s\u001b[0m eta \u001b[36m0:00:00\u001b[0m\n",
            "\u001b[?25hDownloading nvidia_cuda_nvrtc_cu12-12.4.127-py3-none-manylinux2014_x86_64.whl (24.6 MB)\n",
            "\u001b[2K   \u001b[90m━━━━━━━━━━━━━━━━━━━━━━━━━━━━━━━━━━━━━━━━\u001b[0m \u001b[32m24.6/24.6 MB\u001b[0m \u001b[31m13.5 MB/s\u001b[0m eta \u001b[36m0:00:00\u001b[0m\n",
            "\u001b[?25hDownloading nvidia_cuda_runtime_cu12-12.4.127-py3-none-manylinux2014_x86_64.whl (883 kB)\n",
            "\u001b[2K   \u001b[90m━━━━━━━━━━━━━━━━━━━━━━━━━━━━━━━━━━━━━━━━\u001b[0m \u001b[32m883.7/883.7 kB\u001b[0m \u001b[31m34.5 MB/s\u001b[0m eta \u001b[36m0:00:00\u001b[0m\n",
            "\u001b[?25hDownloading nvidia_cudnn_cu12-9.1.0.70-py3-none-manylinux2014_x86_64.whl (664.8 MB)\n",
            "\u001b[2K   \u001b[90m━━━━━━━━━━━━━━━━━━━━━━━━━━━━━━━━━━━━━━━━\u001b[0m \u001b[32m664.8/664.8 MB\u001b[0m \u001b[31m2.0 MB/s\u001b[0m eta \u001b[36m0:00:00\u001b[0m\n",
            "\u001b[?25hDownloading nvidia_cufft_cu12-11.2.1.3-py3-none-manylinux2014_x86_64.whl (211.5 MB)\n",
            "\u001b[2K   \u001b[90m━━━━━━━━━━━━━━━━━━━━━━━━━━━━━━━━━━━━━━━━\u001b[0m \u001b[32m211.5/211.5 MB\u001b[0m \u001b[31m5.6 MB/s\u001b[0m eta \u001b[36m0:00:00\u001b[0m\n",
            "\u001b[?25hDownloading nvidia_curand_cu12-10.3.5.147-py3-none-manylinux2014_x86_64.whl (56.3 MB)\n",
            "\u001b[2K   \u001b[90m━━━━━━━━━━━━━━━━━━━━━━━━━━━━━━━━━━━━━━━━\u001b[0m \u001b[32m56.3/56.3 MB\u001b[0m \u001b[31m11.6 MB/s\u001b[0m eta \u001b[36m0:00:00\u001b[0m\n",
            "\u001b[?25hDownloading nvidia_cusolver_cu12-11.6.1.9-py3-none-manylinux2014_x86_64.whl (127.9 MB)\n",
            "\u001b[2K   \u001b[90m━━━━━━━━━━━━━━━━━━━━━━━━━━━━━━━━━━━━━━━━\u001b[0m \u001b[32m127.9/127.9 MB\u001b[0m \u001b[31m7.3 MB/s\u001b[0m eta \u001b[36m0:00:00\u001b[0m\n",
            "\u001b[?25hDownloading nvidia_cusparse_cu12-12.3.1.170-py3-none-manylinux2014_x86_64.whl (207.5 MB)\n",
            "\u001b[2K   \u001b[90m━━━━━━━━━━━━━━━━━━━━━━━━━━━━━━━━━━━━━━━━\u001b[0m \u001b[32m207.5/207.5 MB\u001b[0m \u001b[31m6.0 MB/s\u001b[0m eta \u001b[36m0:00:00\u001b[0m\n",
            "\u001b[?25hDownloading nvidia_nvjitlink_cu12-12.4.127-py3-none-manylinux2014_x86_64.whl (21.1 MB)\n",
            "\u001b[2K   \u001b[90m━━━━━━━━━━━━━━━━━━━━━━━━━━━━━━━━━━━━━━━━\u001b[0m \u001b[32m21.1/21.1 MB\u001b[0m \u001b[31m75.0 MB/s\u001b[0m eta \u001b[36m0:00:00\u001b[0m\n",
            "\u001b[?25hDownloading typer_config-1.4.2-py3-none-any.whl (11 kB)\n",
            "Downloading dill-0.3.8-py3-none-any.whl (116 kB)\n",
            "\u001b[2K   \u001b[90m━━━━━━━━━━━━━━━━━━━━━━━━━━━━━━━━━━━━━━━━\u001b[0m \u001b[32m116.3/116.3 kB\u001b[0m \u001b[31m12.5 MB/s\u001b[0m eta \u001b[36m0:00:00\u001b[0m\n",
            "\u001b[?25hDownloading fsspec-2024.6.1-py3-none-any.whl (177 kB)\n",
            "\u001b[2K   \u001b[90m━━━━━━━━━━━━━━━━━━━━━━━━━━━━━━━━━━━━━━━━\u001b[0m \u001b[32m177.6/177.6 kB\u001b[0m \u001b[31m18.1 MB/s\u001b[0m eta \u001b[36m0:00:00\u001b[0m\n",
            "\u001b[?25hDownloading multiprocess-0.70.16-py311-none-any.whl (143 kB)\n",
            "\u001b[2K   \u001b[90m━━━━━━━━━━━━━━━━━━━━━━━━━━━━━━━━━━━━━━━━\u001b[0m \u001b[32m143.5/143.5 kB\u001b[0m \u001b[31m12.5 MB/s\u001b[0m eta \u001b[36m0:00:00\u001b[0m\n",
            "\u001b[?25hDownloading xxhash-3.5.0-cp311-cp311-manylinux_2_17_x86_64.manylinux2014_x86_64.whl (194 kB)\n",
            "\u001b[2K   \u001b[90m━━━━━━━━━━━━━━━━━━━━━━━━━━━━━━━━━━━━━━━━\u001b[0m \u001b[32m194.8/194.8 kB\u001b[0m \u001b[31m14.3 MB/s\u001b[0m eta \u001b[36m0:00:00\u001b[0m\n",
            "\u001b[?25hBuilding wheels for collected packages: chronos-forecasting\n",
            "  Building editable for chronos-forecasting (pyproject.toml) ... \u001b[?25l\u001b[?25hdone\n",
            "  Created wheel for chronos-forecasting: filename=chronos_forecasting-1.4.1-py3-none-any.whl size=15021 sha256=7b6366e4ba981e611e75c8a4509bd4ca4c9c7ce7e13a76806df004bafc646775\n",
            "  Stored in directory: /tmp/pip-ephem-wheel-cache-9kgldrs8/wheels/c6/39/db/dd220df162dd4979e9436a4468e9994a416eaf961c6899d07b\n",
            "Successfully built chronos-forecasting\n",
            "Installing collected packages: xxhash, nvidia-nvjitlink-cu12, nvidia-curand-cu12, nvidia-cufft-cu12, nvidia-cuda-runtime-cu12, nvidia-cuda-nvrtc-cu12, nvidia-cuda-cupti-cu12, nvidia-cublas-cu12, fsspec, dill, nvidia-cusparse-cu12, nvidia-cudnn-cu12, multiprocess, nvidia-cusolver-cu12, gluonts, typer-config, datasets, accelerate, chronos-forecasting\n",
            "  Attempting uninstall: nvidia-nvjitlink-cu12\n",
            "    Found existing installation: nvidia-nvjitlink-cu12 12.5.82\n",
            "    Uninstalling nvidia-nvjitlink-cu12-12.5.82:\n",
            "      Successfully uninstalled nvidia-nvjitlink-cu12-12.5.82\n",
            "  Attempting uninstall: nvidia-curand-cu12\n",
            "    Found existing installation: nvidia-curand-cu12 10.3.6.82\n",
            "    Uninstalling nvidia-curand-cu12-10.3.6.82:\n",
            "      Successfully uninstalled nvidia-curand-cu12-10.3.6.82\n",
            "  Attempting uninstall: nvidia-cufft-cu12\n",
            "    Found existing installation: nvidia-cufft-cu12 11.2.3.61\n",
            "    Uninstalling nvidia-cufft-cu12-11.2.3.61:\n",
            "      Successfully uninstalled nvidia-cufft-cu12-11.2.3.61\n",
            "  Attempting uninstall: nvidia-cuda-runtime-cu12\n",
            "    Found existing installation: nvidia-cuda-runtime-cu12 12.5.82\n",
            "    Uninstalling nvidia-cuda-runtime-cu12-12.5.82:\n",
            "      Successfully uninstalled nvidia-cuda-runtime-cu12-12.5.82\n",
            "  Attempting uninstall: nvidia-cuda-nvrtc-cu12\n",
            "    Found existing installation: nvidia-cuda-nvrtc-cu12 12.5.82\n",
            "    Uninstalling nvidia-cuda-nvrtc-cu12-12.5.82:\n",
            "      Successfully uninstalled nvidia-cuda-nvrtc-cu12-12.5.82\n",
            "  Attempting uninstall: nvidia-cuda-cupti-cu12\n",
            "    Found existing installation: nvidia-cuda-cupti-cu12 12.5.82\n",
            "    Uninstalling nvidia-cuda-cupti-cu12-12.5.82:\n",
            "      Successfully uninstalled nvidia-cuda-cupti-cu12-12.5.82\n",
            "  Attempting uninstall: nvidia-cublas-cu12\n",
            "    Found existing installation: nvidia-cublas-cu12 12.5.3.2\n",
            "    Uninstalling nvidia-cublas-cu12-12.5.3.2:\n",
            "      Successfully uninstalled nvidia-cublas-cu12-12.5.3.2\n",
            "  Attempting uninstall: fsspec\n",
            "    Found existing installation: fsspec 2024.10.0\n",
            "    Uninstalling fsspec-2024.10.0:\n",
            "      Successfully uninstalled fsspec-2024.10.0\n",
            "  Attempting uninstall: nvidia-cusparse-cu12\n",
            "    Found existing installation: nvidia-cusparse-cu12 12.5.1.3\n",
            "    Uninstalling nvidia-cusparse-cu12-12.5.1.3:\n",
            "      Successfully uninstalled nvidia-cusparse-cu12-12.5.1.3\n",
            "  Attempting uninstall: nvidia-cudnn-cu12\n",
            "    Found existing installation: nvidia-cudnn-cu12 9.3.0.75\n",
            "    Uninstalling nvidia-cudnn-cu12-9.3.0.75:\n",
            "      Successfully uninstalled nvidia-cudnn-cu12-9.3.0.75\n",
            "  Attempting uninstall: nvidia-cusolver-cu12\n",
            "    Found existing installation: nvidia-cusolver-cu12 11.6.3.83\n",
            "    Uninstalling nvidia-cusolver-cu12-11.6.3.83:\n",
            "      Successfully uninstalled nvidia-cusolver-cu12-11.6.3.83\n",
            "  Attempting uninstall: accelerate\n",
            "    Found existing installation: accelerate 1.2.1\n",
            "    Uninstalling accelerate-1.2.1:\n",
            "      Successfully uninstalled accelerate-1.2.1\n",
            "\u001b[31mERROR: pip's dependency resolver does not currently take into account all the packages that are installed. This behaviour is the source of the following dependency conflicts.\n",
            "gcsfs 2024.10.0 requires fsspec==2024.10.0, but you have fsspec 2024.6.1 which is incompatible.\u001b[0m\u001b[31m\n",
            "\u001b[0mSuccessfully installed accelerate-0.34.2 chronos-forecasting-1.4.1 datasets-2.21.0 dill-0.3.8 fsspec-2024.6.1 gluonts-0.16.0 multiprocess-0.70.16 nvidia-cublas-cu12-12.4.5.8 nvidia-cuda-cupti-cu12-12.4.127 nvidia-cuda-nvrtc-cu12-12.4.127 nvidia-cuda-runtime-cu12-12.4.127 nvidia-cudnn-cu12-9.1.0.70 nvidia-cufft-cu12-11.2.1.3 nvidia-curand-cu12-10.3.5.147 nvidia-cusolver-cu12-11.6.1.9 nvidia-cusparse-cu12-12.3.1.170 nvidia-nvjitlink-cu12-12.4.127 typer-config-1.4.2 xxhash-3.5.0\n"
          ]
        }
      ]
    },
    {
      "cell_type": "code",
      "source": [
        "import yfinance as yf\n",
        "\n",
        "tickers = [\"AAPL\"]\n",
        "time_series_list = []\n",
        "\n",
        "for ticker in tickers:\n",
        "    df = yf.download(ticker, start=\"2013-01-01\", end=\"2023-01-01\")\n",
        "    time_series_list.append(df[\"Close\"].values.flatten())"
      ],
      "metadata": {
        "colab": {
          "base_uri": "https://localhost:8080/"
        },
        "id": "tsiCQkWFI-ZH",
        "outputId": "a056f2d7-fee0-4d6b-d167-ac861e5db02d"
      },
      "execution_count": 2,
      "outputs": [
        {
          "output_type": "stream",
          "name": "stderr",
          "text": [
            "\r[*********************100%***********************]  1 of 1 completed\n"
          ]
        }
      ]
    },
    {
      "cell_type": "code",
      "source": [
        "from pathlib import Path\n",
        "from typing import List, Union\n",
        "import numpy as np\n",
        "from gluonts.dataset.arrow import ArrowWriter\n",
        "\n",
        "def convert_to_arrow(\n",
        "    path: Union[str, Path],\n",
        "    time_series: Union[List[np.ndarray], np.ndarray],\n",
        "    compression: str = \"lz4\",\n",
        "):\n",
        "    \"\"\"\n",
        "    Salva un insieme di serie temporali in formato Arrow nel percorso specificato.\n",
        "    Ogni serie viene appiattita per essere garantita come array 1D.\n",
        "    \"\"\"\n",
        "    # Impostiamo un tempo di inizio arbitrario\n",
        "    start = np.datetime64(\"2000-01-01 00:00\", \"s\")\n",
        "\n",
        "    # Per ogni serie, assicuriamoci che sia un array 1D\n",
        "    dataset = [{\"start\": start, \"target\": np.array(ts).flatten()} for ts in time_series]\n",
        "\n",
        "    ArrowWriter(compression=compression).write_to_file(dataset, path=path)\n",
        "    print(f\"File Arrow salvato in: {path}\")\n",
        "\n",
        "# Salva i dati in /content/stock_data.arrow\n",
        "convert_to_arrow(\"/content/stock_data.arrow\", time_series=time_series_list)"
      ],
      "metadata": {
        "colab": {
          "base_uri": "https://localhost:8080/"
        },
        "id": "anWXn6I9LeAL",
        "outputId": "9ea9f7d7-a5b5-4057-8950-742f79c4e8db"
      },
      "execution_count": 3,
      "outputs": [
        {
          "output_type": "stream",
          "name": "stdout",
          "text": [
            "File Arrow salvato in: /content/stock_data.arrow\n"
          ]
        }
      ]
    },
    {
      "cell_type": "code",
      "source": [
        "%%writefile /content/config.yaml\n",
        "training_data_paths:\n",
        "  - \"/content/stock_data.arrow\"\n",
        "probability:\n",
        "  - 1.0\n",
        "\n",
        "model_id: \"amazon/chronos-t5-tiny\"\n",
        "random_init: false\n",
        "\n",
        "max_steps: 1000\n",
        "learning_rate: 0.001\n",
        "\n",
        "shuffle_buffer_length: 1000\n",
        "torch_compile: false"
      ],
      "metadata": {
        "colab": {
          "base_uri": "https://localhost:8080/"
        },
        "id": "UzCnMYOYLtbV",
        "outputId": "08a785b2-a205-4102-f900-cc0dea01c0c8"
      },
      "execution_count": 5,
      "outputs": [
        {
          "output_type": "stream",
          "name": "stdout",
          "text": [
            "Overwriting /content/config.yaml\n"
          ]
        }
      ]
    },
    {
      "cell_type": "code",
      "source": [
        "!CUDA_VISIBLE_DEVICES=0 python scripts/training/train.py --config /content/config.yaml"
      ],
      "metadata": {
        "colab": {
          "base_uri": "https://localhost:8080/"
        },
        "id": "7T9ybxssMjPx",
        "outputId": "fb9f11ca-0b17-4b30-9c20-ec5fae9569ac"
      },
      "execution_count": 6,
      "outputs": [
        {
          "output_type": "stream",
          "name": "stdout",
          "text": [
            "2025-02-01 17:03:03.438817: E external/local_xla/xla/stream_executor/cuda/cuda_fft.cc:477] Unable to register cuFFT factory: Attempting to register factory for plugin cuFFT when one has already been registered\n",
            "WARNING: All log messages before absl::InitializeLog() is called are written to STDERR\n",
            "E0000 00:00:1738429383.673345    1181 cuda_dnn.cc:8310] Unable to register cuDNN factory: Attempting to register factory for plugin cuDNN when one has already been registered\n",
            "E0000 00:00:1738429383.738107    1181 cuda_blas.cc:1418] Unable to register cuBLAS factory: Attempting to register factory for plugin cuBLAS when one has already been registered\n",
            "2025-02-01 17:03:04.227028: I tensorflow/core/platform/cpu_feature_guard.cc:210] This TensorFlow binary is optimized to use available CPU instructions in performance-critical operations.\n",
            "To enable the following instructions: AVX2 AVX512F FMA, in other operations, rebuild TensorFlow with the appropriate compiler flags.\n",
            "2025-02-01 17:03:11,051 - /content/chronos-forecasting/scripts/training/train.py - INFO - TF32 format is only available on devices with compute capability >= 8. Setting tf32 to False.\n",
            "2025-02-01 17:03:11,051 - /content/chronos-forecasting/scripts/training/train.py - INFO - Using SEED: 3484634460\n",
            "2025-02-01 17:03:11,061 - /content/chronos-forecasting/scripts/training/train.py - INFO - Logging dir: output/run-0\n",
            "2025-02-01 17:03:11,061 - /content/chronos-forecasting/scripts/training/train.py - INFO - Loading and filtering 1 datasets for training: ['/content/stock_data.arrow']\n",
            "2025-02-01 17:03:11,061 - /content/chronos-forecasting/scripts/training/train.py - INFO - Mixing probabilities: [1.0]\n",
            "2025-02-01 17:03:11,067 - /content/chronos-forecasting/scripts/training/train.py - INFO - Initializing model\n",
            "2025-02-01 17:03:11,068 - /content/chronos-forecasting/scripts/training/train.py - INFO - Using pretrained initialization from amazon/chronos-t5-tiny\n",
            "config.json: 100% 1.14k/1.14k [00:00<00:00, 5.88MB/s]\n",
            "model.safetensors: 100% 33.6M/33.6M [00:00<00:00, 42.3MB/s]\n",
            "generation_config.json: 100% 142/142 [00:00<00:00, 769kB/s]\n",
            "2025-02-01 17:03:13,258 - /content/chronos-forecasting/scripts/training/train.py - INFO - Training\n",
            "  0% 0/1000 [00:00<?, ?it/s]Passing a tuple of `past_key_values` is deprecated and will be removed in Transformers v4.48.0. You should pass an instance of `EncoderDecoderCache` instead, e.g. `past_key_values=EncoderDecoderCache.from_legacy_cache(past_key_values)`.\n",
            "{'loss': 4.0643, 'grad_norm': 1.377253770828247, 'learning_rate': 0.0005, 'epoch': 0.5}\n",
            "{'loss': 3.329, 'grad_norm': 1.3031281232833862, 'learning_rate': 0.0, 'epoch': 1.0}\n",
            "{'train_runtime': 524.5589, 'train_samples_per_second': 122.007, 'train_steps_per_second': 1.906, 'train_loss': 3.6966383056640626, 'epoch': 1.0}\n",
            "100% 1000/1000 [08:44<00:00,  1.91it/s]\n"
          ]
        }
      ]
    },
    {
      "cell_type": "code",
      "source": [
        "!pip install \"chronos-forecasting[evaluation] @ git+https://github.com/amazon-science/chronos-forecasting.git\""
      ],
      "metadata": {
        "colab": {
          "base_uri": "https://localhost:8080/"
        },
        "id": "CTI6r6Q_gcKX",
        "outputId": "443572a4-b7ef-45a8-ea46-65865b7d7782"
      },
      "execution_count": 7,
      "outputs": [
        {
          "output_type": "stream",
          "name": "stdout",
          "text": [
            "Collecting chronos-forecasting@ git+https://github.com/amazon-science/chronos-forecasting.git (from chronos-forecasting[evaluation]@ git+https://github.com/amazon-science/chronos-forecasting.git)\n",
            "  Cloning https://github.com/amazon-science/chronos-forecasting.git to /tmp/pip-install-h20b8zfy/chronos-forecasting_aca7e98a093c4cd78e3d9f27b7541e5d\n",
            "  Running command git clone --filter=blob:none --quiet https://github.com/amazon-science/chronos-forecasting.git /tmp/pip-install-h20b8zfy/chronos-forecasting_aca7e98a093c4cd78e3d9f27b7541e5d\n",
            "  Resolved https://github.com/amazon-science/chronos-forecasting.git to commit 39515ff0fcdae55bbbf546d90193dbe54b201556\n",
            "  Installing build dependencies ... \u001b[?25l\u001b[?25hdone\n",
            "  Getting requirements to build wheel ... \u001b[?25l\u001b[?25hdone\n",
            "  Preparing metadata (pyproject.toml) ... \u001b[?25l\u001b[?25hdone\n",
            "Requirement already satisfied: accelerate<1,>=0.32 in /usr/local/lib/python3.11/dist-packages (from chronos-forecasting@ git+https://github.com/amazon-science/chronos-forecasting.git->chronos-forecasting[evaluation]@ git+https://github.com/amazon-science/chronos-forecasting.git) (0.34.2)\n",
            "Requirement already satisfied: torch<2.6,>=2.0 in /usr/local/lib/python3.11/dist-packages (from chronos-forecasting@ git+https://github.com/amazon-science/chronos-forecasting.git->chronos-forecasting[evaluation]@ git+https://github.com/amazon-science/chronos-forecasting.git) (2.5.1+cu124)\n",
            "Requirement already satisfied: transformers<4.48,>=4.30 in /usr/local/lib/python3.11/dist-packages (from chronos-forecasting@ git+https://github.com/amazon-science/chronos-forecasting.git->chronos-forecasting[evaluation]@ git+https://github.com/amazon-science/chronos-forecasting.git) (4.47.1)\n",
            "Requirement already satisfied: datasets~=2.18 in /usr/local/lib/python3.11/dist-packages (from chronos-forecasting@ git+https://github.com/amazon-science/chronos-forecasting.git->chronos-forecasting[evaluation]@ git+https://github.com/amazon-science/chronos-forecasting.git) (2.21.0)\n",
            "Requirement already satisfied: gluonts~=0.15 in /usr/local/lib/python3.11/dist-packages (from gluonts[pro]~=0.15; extra == \"evaluation\"->chronos-forecasting@ git+https://github.com/amazon-science/chronos-forecasting.git->chronos-forecasting[evaluation]@ git+https://github.com/amazon-science/chronos-forecasting.git) (0.16.0)\n",
            "Requirement already satisfied: numpy~=1.21 in /usr/local/lib/python3.11/dist-packages (from chronos-forecasting@ git+https://github.com/amazon-science/chronos-forecasting.git->chronos-forecasting[evaluation]@ git+https://github.com/amazon-science/chronos-forecasting.git) (1.26.4)\n",
            "Requirement already satisfied: typer in /usr/local/lib/python3.11/dist-packages (from chronos-forecasting@ git+https://github.com/amazon-science/chronos-forecasting.git->chronos-forecasting[evaluation]@ git+https://github.com/amazon-science/chronos-forecasting.git) (0.15.1)\n",
            "Requirement already satisfied: packaging>=20.0 in /usr/local/lib/python3.11/dist-packages (from accelerate<1,>=0.32->chronos-forecasting@ git+https://github.com/amazon-science/chronos-forecasting.git->chronos-forecasting[evaluation]@ git+https://github.com/amazon-science/chronos-forecasting.git) (24.2)\n",
            "Requirement already satisfied: psutil in /usr/local/lib/python3.11/dist-packages (from accelerate<1,>=0.32->chronos-forecasting@ git+https://github.com/amazon-science/chronos-forecasting.git->chronos-forecasting[evaluation]@ git+https://github.com/amazon-science/chronos-forecasting.git) (5.9.5)\n",
            "Requirement already satisfied: pyyaml in /usr/local/lib/python3.11/dist-packages (from accelerate<1,>=0.32->chronos-forecasting@ git+https://github.com/amazon-science/chronos-forecasting.git->chronos-forecasting[evaluation]@ git+https://github.com/amazon-science/chronos-forecasting.git) (6.0.2)\n",
            "Requirement already satisfied: huggingface-hub>=0.21.0 in /usr/local/lib/python3.11/dist-packages (from accelerate<1,>=0.32->chronos-forecasting@ git+https://github.com/amazon-science/chronos-forecasting.git->chronos-forecasting[evaluation]@ git+https://github.com/amazon-science/chronos-forecasting.git) (0.27.1)\n",
            "Requirement already satisfied: safetensors>=0.4.3 in /usr/local/lib/python3.11/dist-packages (from accelerate<1,>=0.32->chronos-forecasting@ git+https://github.com/amazon-science/chronos-forecasting.git->chronos-forecasting[evaluation]@ git+https://github.com/amazon-science/chronos-forecasting.git) (0.5.2)\n",
            "Requirement already satisfied: filelock in /usr/local/lib/python3.11/dist-packages (from datasets~=2.18->chronos-forecasting@ git+https://github.com/amazon-science/chronos-forecasting.git->chronos-forecasting[evaluation]@ git+https://github.com/amazon-science/chronos-forecasting.git) (3.17.0)\n",
            "Requirement already satisfied: pyarrow>=15.0.0 in /usr/local/lib/python3.11/dist-packages (from datasets~=2.18->chronos-forecasting@ git+https://github.com/amazon-science/chronos-forecasting.git->chronos-forecasting[evaluation]@ git+https://github.com/amazon-science/chronos-forecasting.git) (17.0.0)\n",
            "Requirement already satisfied: dill<0.3.9,>=0.3.0 in /usr/local/lib/python3.11/dist-packages (from datasets~=2.18->chronos-forecasting@ git+https://github.com/amazon-science/chronos-forecasting.git->chronos-forecasting[evaluation]@ git+https://github.com/amazon-science/chronos-forecasting.git) (0.3.8)\n",
            "Requirement already satisfied: pandas in /usr/local/lib/python3.11/dist-packages (from datasets~=2.18->chronos-forecasting@ git+https://github.com/amazon-science/chronos-forecasting.git->chronos-forecasting[evaluation]@ git+https://github.com/amazon-science/chronos-forecasting.git) (2.2.2)\n",
            "Requirement already satisfied: requests>=2.32.2 in /usr/local/lib/python3.11/dist-packages (from datasets~=2.18->chronos-forecasting@ git+https://github.com/amazon-science/chronos-forecasting.git->chronos-forecasting[evaluation]@ git+https://github.com/amazon-science/chronos-forecasting.git) (2.32.3)\n",
            "Requirement already satisfied: tqdm>=4.66.3 in /usr/local/lib/python3.11/dist-packages (from datasets~=2.18->chronos-forecasting@ git+https://github.com/amazon-science/chronos-forecasting.git->chronos-forecasting[evaluation]@ git+https://github.com/amazon-science/chronos-forecasting.git) (4.67.1)\n",
            "Requirement already satisfied: xxhash in /usr/local/lib/python3.11/dist-packages (from datasets~=2.18->chronos-forecasting@ git+https://github.com/amazon-science/chronos-forecasting.git->chronos-forecasting[evaluation]@ git+https://github.com/amazon-science/chronos-forecasting.git) (3.5.0)\n",
            "Requirement already satisfied: multiprocess in /usr/local/lib/python3.11/dist-packages (from datasets~=2.18->chronos-forecasting@ git+https://github.com/amazon-science/chronos-forecasting.git->chronos-forecasting[evaluation]@ git+https://github.com/amazon-science/chronos-forecasting.git) (0.70.16)\n",
            "Requirement already satisfied: fsspec<=2024.6.1,>=2023.1.0 in /usr/local/lib/python3.11/dist-packages (from fsspec[http]<=2024.6.1,>=2023.1.0->datasets~=2.18->chronos-forecasting@ git+https://github.com/amazon-science/chronos-forecasting.git->chronos-forecasting[evaluation]@ git+https://github.com/amazon-science/chronos-forecasting.git) (2024.6.1)\n",
            "Requirement already satisfied: aiohttp in /usr/local/lib/python3.11/dist-packages (from datasets~=2.18->chronos-forecasting@ git+https://github.com/amazon-science/chronos-forecasting.git->chronos-forecasting[evaluation]@ git+https://github.com/amazon-science/chronos-forecasting.git) (3.11.11)\n",
            "Requirement already satisfied: pydantic<3,>=1.7 in /usr/local/lib/python3.11/dist-packages (from gluonts~=0.15->gluonts[pro]~=0.15; extra == \"evaluation\"->chronos-forecasting@ git+https://github.com/amazon-science/chronos-forecasting.git->chronos-forecasting[evaluation]@ git+https://github.com/amazon-science/chronos-forecasting.git) (2.10.6)\n",
            "Requirement already satisfied: toolz~=0.10 in /usr/local/lib/python3.11/dist-packages (from gluonts~=0.15->gluonts[pro]~=0.15; extra == \"evaluation\"->chronos-forecasting@ git+https://github.com/amazon-science/chronos-forecasting.git->chronos-forecasting[evaluation]@ git+https://github.com/amazon-science/chronos-forecasting.git) (0.12.1)\n",
            "Requirement already satisfied: typing-extensions~=4.0 in /usr/local/lib/python3.11/dist-packages (from gluonts~=0.15->gluonts[pro]~=0.15; extra == \"evaluation\"->chronos-forecasting@ git+https://github.com/amazon-science/chronos-forecasting.git->chronos-forecasting[evaluation]@ git+https://github.com/amazon-science/chronos-forecasting.git) (4.12.2)\n",
            "Requirement already satisfied: orjson in /usr/local/lib/python3.11/dist-packages (from gluonts[pro]~=0.15; extra == \"evaluation\"->chronos-forecasting@ git+https://github.com/amazon-science/chronos-forecasting.git->chronos-forecasting[evaluation]@ git+https://github.com/amazon-science/chronos-forecasting.git) (3.10.15)\n",
            "Requirement already satisfied: networkx in /usr/local/lib/python3.11/dist-packages (from torch<2.6,>=2.0->chronos-forecasting@ git+https://github.com/amazon-science/chronos-forecasting.git->chronos-forecasting[evaluation]@ git+https://github.com/amazon-science/chronos-forecasting.git) (3.4.2)\n",
            "Requirement already satisfied: jinja2 in /usr/local/lib/python3.11/dist-packages (from torch<2.6,>=2.0->chronos-forecasting@ git+https://github.com/amazon-science/chronos-forecasting.git->chronos-forecasting[evaluation]@ git+https://github.com/amazon-science/chronos-forecasting.git) (3.1.5)\n",
            "Requirement already satisfied: nvidia-cuda-nvrtc-cu12==12.4.127 in /usr/local/lib/python3.11/dist-packages (from torch<2.6,>=2.0->chronos-forecasting@ git+https://github.com/amazon-science/chronos-forecasting.git->chronos-forecasting[evaluation]@ git+https://github.com/amazon-science/chronos-forecasting.git) (12.4.127)\n",
            "Requirement already satisfied: nvidia-cuda-runtime-cu12==12.4.127 in /usr/local/lib/python3.11/dist-packages (from torch<2.6,>=2.0->chronos-forecasting@ git+https://github.com/amazon-science/chronos-forecasting.git->chronos-forecasting[evaluation]@ git+https://github.com/amazon-science/chronos-forecasting.git) (12.4.127)\n",
            "Requirement already satisfied: nvidia-cuda-cupti-cu12==12.4.127 in /usr/local/lib/python3.11/dist-packages (from torch<2.6,>=2.0->chronos-forecasting@ git+https://github.com/amazon-science/chronos-forecasting.git->chronos-forecasting[evaluation]@ git+https://github.com/amazon-science/chronos-forecasting.git) (12.4.127)\n",
            "Requirement already satisfied: nvidia-cudnn-cu12==9.1.0.70 in /usr/local/lib/python3.11/dist-packages (from torch<2.6,>=2.0->chronos-forecasting@ git+https://github.com/amazon-science/chronos-forecasting.git->chronos-forecasting[evaluation]@ git+https://github.com/amazon-science/chronos-forecasting.git) (9.1.0.70)\n",
            "Requirement already satisfied: nvidia-cublas-cu12==12.4.5.8 in /usr/local/lib/python3.11/dist-packages (from torch<2.6,>=2.0->chronos-forecasting@ git+https://github.com/amazon-science/chronos-forecasting.git->chronos-forecasting[evaluation]@ git+https://github.com/amazon-science/chronos-forecasting.git) (12.4.5.8)\n",
            "Requirement already satisfied: nvidia-cufft-cu12==11.2.1.3 in /usr/local/lib/python3.11/dist-packages (from torch<2.6,>=2.0->chronos-forecasting@ git+https://github.com/amazon-science/chronos-forecasting.git->chronos-forecasting[evaluation]@ git+https://github.com/amazon-science/chronos-forecasting.git) (11.2.1.3)\n",
            "Requirement already satisfied: nvidia-curand-cu12==10.3.5.147 in /usr/local/lib/python3.11/dist-packages (from torch<2.6,>=2.0->chronos-forecasting@ git+https://github.com/amazon-science/chronos-forecasting.git->chronos-forecasting[evaluation]@ git+https://github.com/amazon-science/chronos-forecasting.git) (10.3.5.147)\n",
            "Requirement already satisfied: nvidia-cusolver-cu12==11.6.1.9 in /usr/local/lib/python3.11/dist-packages (from torch<2.6,>=2.0->chronos-forecasting@ git+https://github.com/amazon-science/chronos-forecasting.git->chronos-forecasting[evaluation]@ git+https://github.com/amazon-science/chronos-forecasting.git) (11.6.1.9)\n",
            "Requirement already satisfied: nvidia-cusparse-cu12==12.3.1.170 in /usr/local/lib/python3.11/dist-packages (from torch<2.6,>=2.0->chronos-forecasting@ git+https://github.com/amazon-science/chronos-forecasting.git->chronos-forecasting[evaluation]@ git+https://github.com/amazon-science/chronos-forecasting.git) (12.3.1.170)\n",
            "Requirement already satisfied: nvidia-nccl-cu12==2.21.5 in /usr/local/lib/python3.11/dist-packages (from torch<2.6,>=2.0->chronos-forecasting@ git+https://github.com/amazon-science/chronos-forecasting.git->chronos-forecasting[evaluation]@ git+https://github.com/amazon-science/chronos-forecasting.git) (2.21.5)\n",
            "Requirement already satisfied: nvidia-nvtx-cu12==12.4.127 in /usr/local/lib/python3.11/dist-packages (from torch<2.6,>=2.0->chronos-forecasting@ git+https://github.com/amazon-science/chronos-forecasting.git->chronos-forecasting[evaluation]@ git+https://github.com/amazon-science/chronos-forecasting.git) (12.4.127)\n",
            "Requirement already satisfied: nvidia-nvjitlink-cu12==12.4.127 in /usr/local/lib/python3.11/dist-packages (from torch<2.6,>=2.0->chronos-forecasting@ git+https://github.com/amazon-science/chronos-forecasting.git->chronos-forecasting[evaluation]@ git+https://github.com/amazon-science/chronos-forecasting.git) (12.4.127)\n",
            "Requirement already satisfied: triton==3.1.0 in /usr/local/lib/python3.11/dist-packages (from torch<2.6,>=2.0->chronos-forecasting@ git+https://github.com/amazon-science/chronos-forecasting.git->chronos-forecasting[evaluation]@ git+https://github.com/amazon-science/chronos-forecasting.git) (3.1.0)\n",
            "Requirement already satisfied: sympy==1.13.1 in /usr/local/lib/python3.11/dist-packages (from torch<2.6,>=2.0->chronos-forecasting@ git+https://github.com/amazon-science/chronos-forecasting.git->chronos-forecasting[evaluation]@ git+https://github.com/amazon-science/chronos-forecasting.git) (1.13.1)\n",
            "Requirement already satisfied: mpmath<1.4,>=1.1.0 in /usr/local/lib/python3.11/dist-packages (from sympy==1.13.1->torch<2.6,>=2.0->chronos-forecasting@ git+https://github.com/amazon-science/chronos-forecasting.git->chronos-forecasting[evaluation]@ git+https://github.com/amazon-science/chronos-forecasting.git) (1.3.0)\n",
            "Requirement already satisfied: regex!=2019.12.17 in /usr/local/lib/python3.11/dist-packages (from transformers<4.48,>=4.30->chronos-forecasting@ git+https://github.com/amazon-science/chronos-forecasting.git->chronos-forecasting[evaluation]@ git+https://github.com/amazon-science/chronos-forecasting.git) (2024.11.6)\n",
            "Requirement already satisfied: tokenizers<0.22,>=0.21 in /usr/local/lib/python3.11/dist-packages (from transformers<4.48,>=4.30->chronos-forecasting@ git+https://github.com/amazon-science/chronos-forecasting.git->chronos-forecasting[evaluation]@ git+https://github.com/amazon-science/chronos-forecasting.git) (0.21.0)\n",
            "Requirement already satisfied: click>=8.0.0 in /usr/local/lib/python3.11/dist-packages (from typer->chronos-forecasting@ git+https://github.com/amazon-science/chronos-forecasting.git->chronos-forecasting[evaluation]@ git+https://github.com/amazon-science/chronos-forecasting.git) (8.1.8)\n",
            "Requirement already satisfied: shellingham>=1.3.0 in /usr/local/lib/python3.11/dist-packages (from typer->chronos-forecasting@ git+https://github.com/amazon-science/chronos-forecasting.git->chronos-forecasting[evaluation]@ git+https://github.com/amazon-science/chronos-forecasting.git) (1.5.4)\n",
            "Requirement already satisfied: rich>=10.11.0 in /usr/local/lib/python3.11/dist-packages (from typer->chronos-forecasting@ git+https://github.com/amazon-science/chronos-forecasting.git->chronos-forecasting[evaluation]@ git+https://github.com/amazon-science/chronos-forecasting.git) (13.9.4)\n",
            "Requirement already satisfied: aiohappyeyeballs>=2.3.0 in /usr/local/lib/python3.11/dist-packages (from aiohttp->datasets~=2.18->chronos-forecasting@ git+https://github.com/amazon-science/chronos-forecasting.git->chronos-forecasting[evaluation]@ git+https://github.com/amazon-science/chronos-forecasting.git) (2.4.4)\n",
            "Requirement already satisfied: aiosignal>=1.1.2 in /usr/local/lib/python3.11/dist-packages (from aiohttp->datasets~=2.18->chronos-forecasting@ git+https://github.com/amazon-science/chronos-forecasting.git->chronos-forecasting[evaluation]@ git+https://github.com/amazon-science/chronos-forecasting.git) (1.3.2)\n",
            "Requirement already satisfied: attrs>=17.3.0 in /usr/local/lib/python3.11/dist-packages (from aiohttp->datasets~=2.18->chronos-forecasting@ git+https://github.com/amazon-science/chronos-forecasting.git->chronos-forecasting[evaluation]@ git+https://github.com/amazon-science/chronos-forecasting.git) (25.1.0)\n",
            "Requirement already satisfied: frozenlist>=1.1.1 in /usr/local/lib/python3.11/dist-packages (from aiohttp->datasets~=2.18->chronos-forecasting@ git+https://github.com/amazon-science/chronos-forecasting.git->chronos-forecasting[evaluation]@ git+https://github.com/amazon-science/chronos-forecasting.git) (1.5.0)\n",
            "Requirement already satisfied: multidict<7.0,>=4.5 in /usr/local/lib/python3.11/dist-packages (from aiohttp->datasets~=2.18->chronos-forecasting@ git+https://github.com/amazon-science/chronos-forecasting.git->chronos-forecasting[evaluation]@ git+https://github.com/amazon-science/chronos-forecasting.git) (6.1.0)\n",
            "Requirement already satisfied: propcache>=0.2.0 in /usr/local/lib/python3.11/dist-packages (from aiohttp->datasets~=2.18->chronos-forecasting@ git+https://github.com/amazon-science/chronos-forecasting.git->chronos-forecasting[evaluation]@ git+https://github.com/amazon-science/chronos-forecasting.git) (0.2.1)\n",
            "Requirement already satisfied: yarl<2.0,>=1.17.0 in /usr/local/lib/python3.11/dist-packages (from aiohttp->datasets~=2.18->chronos-forecasting@ git+https://github.com/amazon-science/chronos-forecasting.git->chronos-forecasting[evaluation]@ git+https://github.com/amazon-science/chronos-forecasting.git) (1.18.3)\n",
            "Requirement already satisfied: python-dateutil>=2.8.2 in /usr/local/lib/python3.11/dist-packages (from pandas->datasets~=2.18->chronos-forecasting@ git+https://github.com/amazon-science/chronos-forecasting.git->chronos-forecasting[evaluation]@ git+https://github.com/amazon-science/chronos-forecasting.git) (2.8.2)\n",
            "Requirement already satisfied: pytz>=2020.1 in /usr/local/lib/python3.11/dist-packages (from pandas->datasets~=2.18->chronos-forecasting@ git+https://github.com/amazon-science/chronos-forecasting.git->chronos-forecasting[evaluation]@ git+https://github.com/amazon-science/chronos-forecasting.git) (2024.2)\n",
            "Requirement already satisfied: tzdata>=2022.7 in /usr/local/lib/python3.11/dist-packages (from pandas->datasets~=2.18->chronos-forecasting@ git+https://github.com/amazon-science/chronos-forecasting.git->chronos-forecasting[evaluation]@ git+https://github.com/amazon-science/chronos-forecasting.git) (2025.1)\n",
            "Requirement already satisfied: annotated-types>=0.6.0 in /usr/local/lib/python3.11/dist-packages (from pydantic<3,>=1.7->gluonts~=0.15->gluonts[pro]~=0.15; extra == \"evaluation\"->chronos-forecasting@ git+https://github.com/amazon-science/chronos-forecasting.git->chronos-forecasting[evaluation]@ git+https://github.com/amazon-science/chronos-forecasting.git) (0.7.0)\n",
            "Requirement already satisfied: pydantic-core==2.27.2 in /usr/local/lib/python3.11/dist-packages (from pydantic<3,>=1.7->gluonts~=0.15->gluonts[pro]~=0.15; extra == \"evaluation\"->chronos-forecasting@ git+https://github.com/amazon-science/chronos-forecasting.git->chronos-forecasting[evaluation]@ git+https://github.com/amazon-science/chronos-forecasting.git) (2.27.2)\n",
            "Requirement already satisfied: charset-normalizer<4,>=2 in /usr/local/lib/python3.11/dist-packages (from requests>=2.32.2->datasets~=2.18->chronos-forecasting@ git+https://github.com/amazon-science/chronos-forecasting.git->chronos-forecasting[evaluation]@ git+https://github.com/amazon-science/chronos-forecasting.git) (3.4.1)\n",
            "Requirement already satisfied: idna<4,>=2.5 in /usr/local/lib/python3.11/dist-packages (from requests>=2.32.2->datasets~=2.18->chronos-forecasting@ git+https://github.com/amazon-science/chronos-forecasting.git->chronos-forecasting[evaluation]@ git+https://github.com/amazon-science/chronos-forecasting.git) (3.10)\n",
            "Requirement already satisfied: urllib3<3,>=1.21.1 in /usr/local/lib/python3.11/dist-packages (from requests>=2.32.2->datasets~=2.18->chronos-forecasting@ git+https://github.com/amazon-science/chronos-forecasting.git->chronos-forecasting[evaluation]@ git+https://github.com/amazon-science/chronos-forecasting.git) (2.3.0)\n",
            "Requirement already satisfied: certifi>=2017.4.17 in /usr/local/lib/python3.11/dist-packages (from requests>=2.32.2->datasets~=2.18->chronos-forecasting@ git+https://github.com/amazon-science/chronos-forecasting.git->chronos-forecasting[evaluation]@ git+https://github.com/amazon-science/chronos-forecasting.git) (2024.12.14)\n",
            "Requirement already satisfied: markdown-it-py>=2.2.0 in /usr/local/lib/python3.11/dist-packages (from rich>=10.11.0->typer->chronos-forecasting@ git+https://github.com/amazon-science/chronos-forecasting.git->chronos-forecasting[evaluation]@ git+https://github.com/amazon-science/chronos-forecasting.git) (3.0.0)\n",
            "Requirement already satisfied: pygments<3.0.0,>=2.13.0 in /usr/local/lib/python3.11/dist-packages (from rich>=10.11.0->typer->chronos-forecasting@ git+https://github.com/amazon-science/chronos-forecasting.git->chronos-forecasting[evaluation]@ git+https://github.com/amazon-science/chronos-forecasting.git) (2.18.0)\n",
            "Requirement already satisfied: MarkupSafe>=2.0 in /usr/local/lib/python3.11/dist-packages (from jinja2->torch<2.6,>=2.0->chronos-forecasting@ git+https://github.com/amazon-science/chronos-forecasting.git->chronos-forecasting[evaluation]@ git+https://github.com/amazon-science/chronos-forecasting.git) (3.0.2)\n",
            "Requirement already satisfied: mdurl~=0.1 in /usr/local/lib/python3.11/dist-packages (from markdown-it-py>=2.2.0->rich>=10.11.0->typer->chronos-forecasting@ git+https://github.com/amazon-science/chronos-forecasting.git->chronos-forecasting[evaluation]@ git+https://github.com/amazon-science/chronos-forecasting.git) (0.1.2)\n",
            "Requirement already satisfied: six>=1.5 in /usr/local/lib/python3.11/dist-packages (from python-dateutil>=2.8.2->pandas->datasets~=2.18->chronos-forecasting@ git+https://github.com/amazon-science/chronos-forecasting.git->chronos-forecasting[evaluation]@ git+https://github.com/amazon-science/chronos-forecasting.git) (1.17.0)\n",
            "Building wheels for collected packages: chronos-forecasting\n",
            "  Building wheel for chronos-forecasting (pyproject.toml) ... \u001b[?25l\u001b[?25hdone\n",
            "  Created wheel for chronos-forecasting: filename=chronos_forecasting-1.4.1-py3-none-any.whl size=29154 sha256=0ddca36d3ab7c326aa669577503c52cb129ae029cab17162867aeeda02cdaa08\n",
            "  Stored in directory: /tmp/pip-ephem-wheel-cache-rvvv__e7/wheels/ba/7f/47/c8e535215a6b02669af6db36392beef76752951c59bf8b5e74\n",
            "Successfully built chronos-forecasting\n",
            "Installing collected packages: chronos-forecasting\n",
            "  Attempting uninstall: chronos-forecasting\n",
            "    Found existing installation: chronos-forecasting 1.4.1\n",
            "    Uninstalling chronos-forecasting-1.4.1:\n",
            "      Successfully uninstalled chronos-forecasting-1.4.1\n",
            "Successfully installed chronos-forecasting-1.4.1\n"
          ]
        }
      ]
    },
    {
      "cell_type": "code",
      "source": [
        "!ls -l output/run-0/checkpoint-final/"
      ],
      "metadata": {
        "colab": {
          "base_uri": "https://localhost:8080/"
        },
        "id": "nlN3H7fyjR7J",
        "outputId": "af922384-b249-46fb-c8ec-008567ddab05"
      },
      "execution_count": 15,
      "outputs": [
        {
          "output_type": "stream",
          "name": "stdout",
          "text": [
            "total 32820\n",
            "-rw-r--r-- 1 root root     1196 Feb  1 17:11 config.json\n",
            "-rw-r--r-- 1 root root      142 Feb  1 17:11 generation_config.json\n",
            "-rw-r--r-- 1 root root 33588312 Feb  1 17:11 model.safetensors\n",
            "-rw-r--r-- 1 root root     1839 Feb  1 17:11 training_info.json\n"
          ]
        }
      ]
    },
    {
      "cell_type": "code",
      "source": [
        "from chronos import ChronosPipeline\n",
        "\n",
        "pipeline = ChronosPipeline.from_pretrained(\"output/run-0/checkpoint-final/\")"
      ],
      "metadata": {
        "id": "Nz1821_BjmFa"
      },
      "execution_count": 17,
      "outputs": []
    }
  ]
}