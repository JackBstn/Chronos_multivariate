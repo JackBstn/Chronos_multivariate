{
  "cells": [
    {
      "cell_type": "markdown",
      "metadata": {
        "id": "PbdUCJAloC4l"
      },
      "source": [
        "<a href=\"https://colab.research.google.com/github/JackBstn/NLP/blob/main/chronos_trading.ipynb\" target=\"_parent\"><img src=\"https://colab.research.google.com/assets/colab-badge.svg\" alt=\"Open In Colab\"/></a>"
      ]
    },
    {
      "cell_type": "markdown",
      "metadata": {
        "id": "bnKKSiTIn_RD"
      },
      "source": [
        "# Chronos Trading\n",
        "\n",
        "-- TODO: CHECK --\n",
        "\n",
        "This notebook implements two simple trading models that simulate BUY, SELL, or HOLD decisions based on forecasted price movements.\n",
        "\n",
        "**Neural Network Model:**\n",
        "\n",
        "*   Historical data is normalized and fed into a pretrained neural network to predict tomorrow’s closing price.\n",
        "*   Trading decisions are based on the percentage difference between the predicted and current prices using a fixed threshold.\n",
        "*   Daily portfolio values are updated and compared with a Buy & Hold strategy.\n",
        "\n",
        "**Chronos Pipeline Model:**\n",
        "\n",
        "*   A context window of recent closing prices is used as input to the Chronos forecasting pipeline.\n",
        "*   The next day’s predicted price is compared to the current price using the same threshold for trading decisions.\n",
        "*   The simulation tracks portfolio performance against a Buy & Hold benchmark."
      ]
    },
    {
      "cell_type": "markdown",
      "metadata": {
        "id": "tOoTbugKn_RF"
      },
      "source": [
        "### Install Dependencies"
      ]
    },
    {
      "cell_type": "code",
      "execution_count": 5,
      "metadata": {
        "colab": {
          "base_uri": "https://localhost:8080/"
        },
        "collapsed": true,
        "id": "bvJddIimkmBp",
        "outputId": "8f148a3c-f2f3-4daa-c479-fc07388c3fd3"
      },
      "outputs": [
        {
          "output_type": "stream",
          "name": "stdout",
          "text": [
            "Requirement already satisfied: torch in /usr/local/lib/python3.11/dist-packages (2.5.1+cu124)\n",
            "Requirement already satisfied: transformers in /usr/local/lib/python3.11/dist-packages (4.47.1)\n",
            "Requirement already satisfied: chronos in /usr/local/lib/python3.11/dist-packages (0.3)\n",
            "Requirement already satisfied: yfinance in /usr/local/lib/python3.11/dist-packages (0.2.52)\n",
            "Requirement already satisfied: pandas in /usr/local/lib/python3.11/dist-packages (2.2.2)\n",
            "Requirement already satisfied: matplotlib in /usr/local/lib/python3.11/dist-packages (3.10.0)\n",
            "Requirement already satisfied: filelock in /usr/local/lib/python3.11/dist-packages (from torch) (3.17.0)\n",
            "Requirement already satisfied: typing-extensions>=4.8.0 in /usr/local/lib/python3.11/dist-packages (from torch) (4.12.2)\n",
            "Requirement already satisfied: networkx in /usr/local/lib/python3.11/dist-packages (from torch) (3.4.2)\n",
            "Requirement already satisfied: jinja2 in /usr/local/lib/python3.11/dist-packages (from torch) (3.1.5)\n",
            "Requirement already satisfied: fsspec in /usr/local/lib/python3.11/dist-packages (from torch) (2024.10.0)\n",
            "Requirement already satisfied: nvidia-cuda-nvrtc-cu12==12.4.127 in /usr/local/lib/python3.11/dist-packages (from torch) (12.4.127)\n",
            "Requirement already satisfied: nvidia-cuda-runtime-cu12==12.4.127 in /usr/local/lib/python3.11/dist-packages (from torch) (12.4.127)\n",
            "Requirement already satisfied: nvidia-cuda-cupti-cu12==12.4.127 in /usr/local/lib/python3.11/dist-packages (from torch) (12.4.127)\n",
            "Requirement already satisfied: nvidia-cudnn-cu12==9.1.0.70 in /usr/local/lib/python3.11/dist-packages (from torch) (9.1.0.70)\n",
            "Requirement already satisfied: nvidia-cublas-cu12==12.4.5.8 in /usr/local/lib/python3.11/dist-packages (from torch) (12.4.5.8)\n",
            "Requirement already satisfied: nvidia-cufft-cu12==11.2.1.3 in /usr/local/lib/python3.11/dist-packages (from torch) (11.2.1.3)\n",
            "Requirement already satisfied: nvidia-curand-cu12==10.3.5.147 in /usr/local/lib/python3.11/dist-packages (from torch) (10.3.5.147)\n",
            "Requirement already satisfied: nvidia-cusolver-cu12==11.6.1.9 in /usr/local/lib/python3.11/dist-packages (from torch) (11.6.1.9)\n",
            "Requirement already satisfied: nvidia-cusparse-cu12==12.3.1.170 in /usr/local/lib/python3.11/dist-packages (from torch) (12.3.1.170)\n",
            "Requirement already satisfied: nvidia-nccl-cu12==2.21.5 in /usr/local/lib/python3.11/dist-packages (from torch) (2.21.5)\n",
            "Requirement already satisfied: nvidia-nvtx-cu12==12.4.127 in /usr/local/lib/python3.11/dist-packages (from torch) (12.4.127)\n",
            "Requirement already satisfied: nvidia-nvjitlink-cu12==12.4.127 in /usr/local/lib/python3.11/dist-packages (from torch) (12.4.127)\n",
            "Requirement already satisfied: triton==3.1.0 in /usr/local/lib/python3.11/dist-packages (from torch) (3.1.0)\n",
            "Requirement already satisfied: sympy==1.13.1 in /usr/local/lib/python3.11/dist-packages (from torch) (1.13.1)\n",
            "Requirement already satisfied: mpmath<1.4,>=1.1.0 in /usr/local/lib/python3.11/dist-packages (from sympy==1.13.1->torch) (1.3.0)\n",
            "Requirement already satisfied: huggingface-hub<1.0,>=0.24.0 in /usr/local/lib/python3.11/dist-packages (from transformers) (0.28.1)\n",
            "Requirement already satisfied: numpy>=1.17 in /usr/local/lib/python3.11/dist-packages (from transformers) (1.26.4)\n",
            "Requirement already satisfied: packaging>=20.0 in /usr/local/lib/python3.11/dist-packages (from transformers) (24.2)\n",
            "Requirement already satisfied: pyyaml>=5.1 in /usr/local/lib/python3.11/dist-packages (from transformers) (6.0.2)\n",
            "Requirement already satisfied: regex!=2019.12.17 in /usr/local/lib/python3.11/dist-packages (from transformers) (2024.11.6)\n",
            "Requirement already satisfied: requests in /usr/local/lib/python3.11/dist-packages (from transformers) (2.32.3)\n",
            "Requirement already satisfied: tokenizers<0.22,>=0.21 in /usr/local/lib/python3.11/dist-packages (from transformers) (0.21.0)\n",
            "Requirement already satisfied: safetensors>=0.4.1 in /usr/local/lib/python3.11/dist-packages (from transformers) (0.5.2)\n",
            "Requirement already satisfied: tqdm>=4.27 in /usr/local/lib/python3.11/dist-packages (from transformers) (4.67.1)\n",
            "Requirement already satisfied: multitasking>=0.0.7 in /usr/local/lib/python3.11/dist-packages (from yfinance) (0.0.11)\n",
            "Requirement already satisfied: lxml>=4.9.1 in /usr/local/lib/python3.11/dist-packages (from yfinance) (5.3.0)\n",
            "Requirement already satisfied: platformdirs>=2.0.0 in /usr/local/lib/python3.11/dist-packages (from yfinance) (4.3.6)\n",
            "Requirement already satisfied: pytz>=2022.5 in /usr/local/lib/python3.11/dist-packages (from yfinance) (2025.1)\n",
            "Requirement already satisfied: frozendict>=2.3.4 in /usr/local/lib/python3.11/dist-packages (from yfinance) (2.4.6)\n",
            "Requirement already satisfied: peewee>=3.16.2 in /usr/local/lib/python3.11/dist-packages (from yfinance) (3.17.9)\n",
            "Requirement already satisfied: beautifulsoup4>=4.11.1 in /usr/local/lib/python3.11/dist-packages (from yfinance) (4.13.3)\n",
            "Requirement already satisfied: html5lib>=1.1 in /usr/local/lib/python3.11/dist-packages (from yfinance) (1.1)\n",
            "Requirement already satisfied: python-dateutil>=2.8.2 in /usr/local/lib/python3.11/dist-packages (from pandas) (2.8.2)\n",
            "Requirement already satisfied: tzdata>=2022.7 in /usr/local/lib/python3.11/dist-packages (from pandas) (2025.1)\n",
            "Requirement already satisfied: contourpy>=1.0.1 in /usr/local/lib/python3.11/dist-packages (from matplotlib) (1.3.1)\n",
            "Requirement already satisfied: cycler>=0.10 in /usr/local/lib/python3.11/dist-packages (from matplotlib) (0.12.1)\n",
            "Requirement already satisfied: fonttools>=4.22.0 in /usr/local/lib/python3.11/dist-packages (from matplotlib) (4.55.8)\n",
            "Requirement already satisfied: kiwisolver>=1.3.1 in /usr/local/lib/python3.11/dist-packages (from matplotlib) (1.4.8)\n",
            "Requirement already satisfied: pillow>=8 in /usr/local/lib/python3.11/dist-packages (from matplotlib) (11.1.0)\n",
            "Requirement already satisfied: pyparsing>=2.3.1 in /usr/local/lib/python3.11/dist-packages (from matplotlib) (3.2.1)\n",
            "Requirement already satisfied: soupsieve>1.2 in /usr/local/lib/python3.11/dist-packages (from beautifulsoup4>=4.11.1->yfinance) (2.6)\n",
            "Requirement already satisfied: six>=1.9 in /usr/local/lib/python3.11/dist-packages (from html5lib>=1.1->yfinance) (1.17.0)\n",
            "Requirement already satisfied: webencodings in /usr/local/lib/python3.11/dist-packages (from html5lib>=1.1->yfinance) (0.5.1)\n",
            "Requirement already satisfied: charset-normalizer<4,>=2 in /usr/local/lib/python3.11/dist-packages (from requests->transformers) (3.4.1)\n",
            "Requirement already satisfied: idna<4,>=2.5 in /usr/local/lib/python3.11/dist-packages (from requests->transformers) (3.10)\n",
            "Requirement already satisfied: urllib3<3,>=1.21.1 in /usr/local/lib/python3.11/dist-packages (from requests->transformers) (2.3.0)\n",
            "Requirement already satisfied: certifi>=2017.4.17 in /usr/local/lib/python3.11/dist-packages (from requests->transformers) (2025.1.31)\n",
            "Requirement already satisfied: MarkupSafe>=2.0 in /usr/local/lib/python3.11/dist-packages (from jinja2->torch) (3.0.2)\n",
            "Collecting git+https://github.com/amazon-science/chronos-forecasting.git\n",
            "  Cloning https://github.com/amazon-science/chronos-forecasting.git to /tmp/pip-req-build-ha2q0oib\n",
            "  Running command git clone --filter=blob:none --quiet https://github.com/amazon-science/chronos-forecasting.git /tmp/pip-req-build-ha2q0oib\n",
            "  Resolved https://github.com/amazon-science/chronos-forecasting.git to commit 73d6c9aa1aba42612d99f13fc9365ff7f39c4335\n",
            "  Installing build dependencies ... \u001b[?25l\u001b[?25hdone\n",
            "  Getting requirements to build wheel ... \u001b[?25l\u001b[?25hdone\n",
            "  Preparing metadata (pyproject.toml) ... \u001b[?25l\u001b[?25hdone\n",
            "Requirement already satisfied: accelerate<1,>=0.32 in /usr/local/lib/python3.11/dist-packages (from chronos-forecasting==1.5.0) (0.34.2)\n",
            "Requirement already satisfied: torch<3,>=2.0 in /usr/local/lib/python3.11/dist-packages (from chronos-forecasting==1.5.0) (2.5.1+cu124)\n",
            "Requirement already satisfied: transformers<4.48,>=4.30 in /usr/local/lib/python3.11/dist-packages (from chronos-forecasting==1.5.0) (4.47.1)\n",
            "Requirement already satisfied: numpy<3.0.0,>=1.17 in /usr/local/lib/python3.11/dist-packages (from accelerate<1,>=0.32->chronos-forecasting==1.5.0) (1.26.4)\n",
            "Requirement already satisfied: packaging>=20.0 in /usr/local/lib/python3.11/dist-packages (from accelerate<1,>=0.32->chronos-forecasting==1.5.0) (24.2)\n",
            "Requirement already satisfied: psutil in /usr/local/lib/python3.11/dist-packages (from accelerate<1,>=0.32->chronos-forecasting==1.5.0) (5.9.5)\n",
            "Requirement already satisfied: pyyaml in /usr/local/lib/python3.11/dist-packages (from accelerate<1,>=0.32->chronos-forecasting==1.5.0) (6.0.2)\n",
            "Requirement already satisfied: huggingface-hub>=0.21.0 in /usr/local/lib/python3.11/dist-packages (from accelerate<1,>=0.32->chronos-forecasting==1.5.0) (0.28.1)\n",
            "Requirement already satisfied: safetensors>=0.4.3 in /usr/local/lib/python3.11/dist-packages (from accelerate<1,>=0.32->chronos-forecasting==1.5.0) (0.5.2)\n",
            "Requirement already satisfied: filelock in /usr/local/lib/python3.11/dist-packages (from torch<3,>=2.0->chronos-forecasting==1.5.0) (3.17.0)\n",
            "Requirement already satisfied: typing-extensions>=4.8.0 in /usr/local/lib/python3.11/dist-packages (from torch<3,>=2.0->chronos-forecasting==1.5.0) (4.12.2)\n",
            "Requirement already satisfied: networkx in /usr/local/lib/python3.11/dist-packages (from torch<3,>=2.0->chronos-forecasting==1.5.0) (3.4.2)\n",
            "Requirement already satisfied: jinja2 in /usr/local/lib/python3.11/dist-packages (from torch<3,>=2.0->chronos-forecasting==1.5.0) (3.1.5)\n",
            "Requirement already satisfied: fsspec in /usr/local/lib/python3.11/dist-packages (from torch<3,>=2.0->chronos-forecasting==1.5.0) (2024.10.0)\n",
            "Requirement already satisfied: nvidia-cuda-nvrtc-cu12==12.4.127 in /usr/local/lib/python3.11/dist-packages (from torch<3,>=2.0->chronos-forecasting==1.5.0) (12.4.127)\n",
            "Requirement already satisfied: nvidia-cuda-runtime-cu12==12.4.127 in /usr/local/lib/python3.11/dist-packages (from torch<3,>=2.0->chronos-forecasting==1.5.0) (12.4.127)\n",
            "Requirement already satisfied: nvidia-cuda-cupti-cu12==12.4.127 in /usr/local/lib/python3.11/dist-packages (from torch<3,>=2.0->chronos-forecasting==1.5.0) (12.4.127)\n",
            "Requirement already satisfied: nvidia-cudnn-cu12==9.1.0.70 in /usr/local/lib/python3.11/dist-packages (from torch<3,>=2.0->chronos-forecasting==1.5.0) (9.1.0.70)\n",
            "Requirement already satisfied: nvidia-cublas-cu12==12.4.5.8 in /usr/local/lib/python3.11/dist-packages (from torch<3,>=2.0->chronos-forecasting==1.5.0) (12.4.5.8)\n",
            "Requirement already satisfied: nvidia-cufft-cu12==11.2.1.3 in /usr/local/lib/python3.11/dist-packages (from torch<3,>=2.0->chronos-forecasting==1.5.0) (11.2.1.3)\n",
            "Requirement already satisfied: nvidia-curand-cu12==10.3.5.147 in /usr/local/lib/python3.11/dist-packages (from torch<3,>=2.0->chronos-forecasting==1.5.0) (10.3.5.147)\n",
            "Requirement already satisfied: nvidia-cusolver-cu12==11.6.1.9 in /usr/local/lib/python3.11/dist-packages (from torch<3,>=2.0->chronos-forecasting==1.5.0) (11.6.1.9)\n",
            "Requirement already satisfied: nvidia-cusparse-cu12==12.3.1.170 in /usr/local/lib/python3.11/dist-packages (from torch<3,>=2.0->chronos-forecasting==1.5.0) (12.3.1.170)\n",
            "Requirement already satisfied: nvidia-nccl-cu12==2.21.5 in /usr/local/lib/python3.11/dist-packages (from torch<3,>=2.0->chronos-forecasting==1.5.0) (2.21.5)\n",
            "Requirement already satisfied: nvidia-nvtx-cu12==12.4.127 in /usr/local/lib/python3.11/dist-packages (from torch<3,>=2.0->chronos-forecasting==1.5.0) (12.4.127)\n",
            "Requirement already satisfied: nvidia-nvjitlink-cu12==12.4.127 in /usr/local/lib/python3.11/dist-packages (from torch<3,>=2.0->chronos-forecasting==1.5.0) (12.4.127)\n",
            "Requirement already satisfied: triton==3.1.0 in /usr/local/lib/python3.11/dist-packages (from torch<3,>=2.0->chronos-forecasting==1.5.0) (3.1.0)\n",
            "Requirement already satisfied: sympy==1.13.1 in /usr/local/lib/python3.11/dist-packages (from torch<3,>=2.0->chronos-forecasting==1.5.0) (1.13.1)\n",
            "Requirement already satisfied: mpmath<1.4,>=1.1.0 in /usr/local/lib/python3.11/dist-packages (from sympy==1.13.1->torch<3,>=2.0->chronos-forecasting==1.5.0) (1.3.0)\n",
            "Requirement already satisfied: regex!=2019.12.17 in /usr/local/lib/python3.11/dist-packages (from transformers<4.48,>=4.30->chronos-forecasting==1.5.0) (2024.11.6)\n",
            "Requirement already satisfied: requests in /usr/local/lib/python3.11/dist-packages (from transformers<4.48,>=4.30->chronos-forecasting==1.5.0) (2.32.3)\n",
            "Requirement already satisfied: tokenizers<0.22,>=0.21 in /usr/local/lib/python3.11/dist-packages (from transformers<4.48,>=4.30->chronos-forecasting==1.5.0) (0.21.0)\n",
            "Requirement already satisfied: tqdm>=4.27 in /usr/local/lib/python3.11/dist-packages (from transformers<4.48,>=4.30->chronos-forecasting==1.5.0) (4.67.1)\n",
            "Requirement already satisfied: MarkupSafe>=2.0 in /usr/local/lib/python3.11/dist-packages (from jinja2->torch<3,>=2.0->chronos-forecasting==1.5.0) (3.0.2)\n",
            "Requirement already satisfied: charset-normalizer<4,>=2 in /usr/local/lib/python3.11/dist-packages (from requests->transformers<4.48,>=4.30->chronos-forecasting==1.5.0) (3.4.1)\n",
            "Requirement already satisfied: idna<4,>=2.5 in /usr/local/lib/python3.11/dist-packages (from requests->transformers<4.48,>=4.30->chronos-forecasting==1.5.0) (3.10)\n",
            "Requirement already satisfied: urllib3<3,>=1.21.1 in /usr/local/lib/python3.11/dist-packages (from requests->transformers<4.48,>=4.30->chronos-forecasting==1.5.0) (2.3.0)\n",
            "Requirement already satisfied: certifi>=2017.4.17 in /usr/local/lib/python3.11/dist-packages (from requests->transformers<4.48,>=4.30->chronos-forecasting==1.5.0) (2025.1.31)\n",
            "Cloning into 'NLP'...\n",
            "remote: Enumerating objects: 162, done.\u001b[K\n",
            "remote: Counting objects: 100% (100/100), done.\u001b[K\n",
            "remote: Compressing objects: 100% (82/82), done.\u001b[K\n",
            "remote: Total 162 (delta 38), reused 67 (delta 17), pack-reused 62 (from 1)\u001b[K\n",
            "Receiving objects: 100% (162/162), 95.10 MiB | 22.70 MiB/s, done.\n",
            "Resolving deltas: 100% (49/49), done.\n"
          ]
        }
      ],
      "source": [
        "!pip install torch transformers chronos yfinance pandas matplotlib\n",
        "!pip install git+https://github.com/amazon-science/chronos-forecasting.git\n",
        "!git clone https://github.com/JackBstn/NLP.git"
      ]
    },
    {
      "cell_type": "code",
      "execution_count": 2,
      "metadata": {
        "ExecuteTime": {
          "end_time": "2025-02-06T11:32:02.740936Z",
          "start_time": "2025-02-06T11:31:58.873234Z"
        },
        "id": "ShAEGB9nGGFy"
      },
      "outputs": [],
      "source": [
        "import numpy as np\n",
        "import pandas as pd\n",
        "import yfinance as yf\n",
        "import matplotlib.pyplot as plt\n",
        "from chronos import BaseChronosPipeline\n",
        "from sklearn.preprocessing import StandardScaler\n",
        "from sklearn.model_selection import train_test_split\n",
        "from sklearn.metrics import mean_absolute_error, mean_squared_error\n",
        "\n",
        "import torch\n",
        "import torch.nn as nn\n",
        "import torch.optim as optim\n",
        "from torch.optim.lr_scheduler import MultiStepLR\n",
        "from torch.utils.data import DataLoader, TensorDataset\n",
        "\n",
        "seed = 343126\n",
        "\n",
        "\n",
        "def reset_seed():\n",
        "    torch.manual_seed(seed)\n",
        "    if torch.cuda.is_available():\n",
        "        torch.cuda.manual_seed_all(seed)\n",
        "    np.random.seed(seed)\n",
        "\n",
        "\n",
        "DEVICE = \"cuda\" if torch.cuda.is_available() else \"cpu\""
      ]
    },
    {
      "cell_type": "markdown",
      "metadata": {
        "id": "8vt8P07GGGF4"
      },
      "source": [
        "#### Import NN pre-trained model"
      ]
    },
    {
      "cell_type": "code",
      "execution_count": 3,
      "metadata": {
        "id": "1Pivdl3ontyy"
      },
      "outputs": [],
      "source": [
        "class PricePredictionNN(nn.Module):\n",
        "    \"\"\"\n",
        "    Neural Network for price prediction.\n",
        "    Architecture: 3 fully connected layers with ReLU activation and dropout.\n",
        "    \"\"\"\n",
        "\n",
        "    def __init__(self, input_size, hidden_size_1, hidden_size_2, output_size):\n",
        "        super(PricePredictionNN, self).__init__()\n",
        "        self.fc1 = nn.Linear(input_size, hidden_size_1)\n",
        "        self.relu1 = nn.ReLU()\n",
        "        self.dropout1 = nn.Dropout(0.1)\n",
        "        self.fc2 = nn.Linear(hidden_size_1, hidden_size_2)\n",
        "        self.relu2 = nn.ReLU()\n",
        "        self.dropout2 = nn.Dropout(0.1)\n",
        "        self.fc3 = nn.Linear(hidden_size_2, output_size)\n",
        "\n",
        "    def forward(self, x):\n",
        "        x = self.dropout1(self.relu1(self.fc1(x)))\n",
        "        x = self.dropout2(self.relu2(self.fc2(x)))\n",
        "        x = self.fc3(x)\n",
        "        return x"
      ]
    },
    {
      "cell_type": "code",
      "execution_count": 6,
      "metadata": {
        "id": "TL2xJGGOm-PP",
        "outputId": "c549953e-8774-4211-c095-a8381dd53b3b",
        "colab": {
          "base_uri": "https://localhost:8080/"
        }
      },
      "outputs": [
        {
          "output_type": "stream",
          "name": "stderr",
          "text": [
            "<ipython-input-6-ca3e0b84546c>:13: FutureWarning: You are using `torch.load` with `weights_only=False` (the current default value), which uses the default pickle module implicitly. It is possible to construct malicious pickle data which will execute arbitrary code during unpickling (See https://github.com/pytorch/pytorch/blob/main/SECURITY.md#untrusted-models for more details). In a future release, the default value for `weights_only` will be flipped to `True`. This limits the functions that could be executed during unpickling. Arbitrary objects will no longer be allowed to be loaded via this mode unless they are explicitly allowlisted by the user via `torch.serialization.add_safe_globals`. We recommend you start setting `weights_only=True` for any use case where you don't have full control of the loaded file. Please open an issue on GitHub for any issues related to this experimental feature.\n",
            "  model.load_state_dict(torch.load(\"NLP/models/nn_model.pth\"))\n"
          ]
        },
        {
          "output_type": "execute_result",
          "data": {
            "text/plain": [
              "PricePredictionNN(\n",
              "  (fc1): Linear(in_features=5, out_features=128, bias=True)\n",
              "  (relu1): ReLU()\n",
              "  (dropout1): Dropout(p=0.1, inplace=False)\n",
              "  (fc2): Linear(in_features=128, out_features=64, bias=True)\n",
              "  (relu2): ReLU()\n",
              "  (dropout2): Dropout(p=0.1, inplace=False)\n",
              "  (fc3): Linear(in_features=64, out_features=1, bias=True)\n",
              ")"
            ]
          },
          "metadata": {},
          "execution_count": 6
        }
      ],
      "source": [
        "reset_seed()  # For reproducibility\n",
        "\n",
        "# Model\n",
        "input_size = 5  # Feature number\n",
        "hidden_size_1 = 128  # Number of hidden units in first hidden layer\n",
        "hidden_size_2 = 64  # Number of hidden units in second hidden layer\n",
        "output_size = 1  # Output size (1 for regression)\n",
        "scaler_x = StandardScaler()\n",
        "scaler_y = StandardScaler()\n",
        "model = PricePredictionNN(input_size, hidden_size_1, hidden_size_2, output_size)\n",
        "\n",
        "# Load the trained model\n",
        "model.load_state_dict(torch.load(\"NLP/models/nn_model.pth\"))\n",
        "model.eval()"
      ]
    },
    {
      "cell_type": "markdown",
      "metadata": {
        "id": "dRtQXTsym-PP"
      },
      "source": [
        "#### Download test data"
      ]
    },
    {
      "cell_type": "code",
      "execution_count": null,
      "metadata": {
        "ExecuteTime": {
          "end_time": "2025-02-06T11:32:04.013866Z",
          "start_time": "2025-02-06T11:32:02.892535Z"
        },
        "id": "lakKP7hEGGF2"
      },
      "outputs": [],
      "source": [
        "# Download Yahoo Finance data\n",
        "symbol = \"AAPL\"\n",
        "test_data = yf.download(symbol, start=\"2024-01-01\", end=\"2024-03-31\", progress=False)\n",
        "\n",
        "# Prepare the dataset: extract features and closing prices\n",
        "test_features = test_data[[\"Open\", \"High\", \"Low\", \"Volume\", \"Close\"]].values\n",
        "test_close_prices = test_data[\"Close\"].values\n",
        "\n",
        "# Recover training scaler\n",
        "data = np.load(\"chronos_dataset_nn.npz\")\n",
        "X_training = data[\"X\"]\n",
        "Y_training = data[\"Y\"]\n",
        "scaler_x = StandardScaler()\n",
        "X = scaler_x.fit_transform(X_training)\n",
        "scaler_y = StandardScaler()\n",
        "Y = scaler_y.fit_transform(Y_training)\n",
        "\n",
        "# Normalize the features using the scaler applied during training\n",
        "X_test_scaled = scaler_x.transform(test_features)\n",
        "X_test = torch.tensor(X_test_scaled, dtype=torch.float32)"
      ]
    },
    {
      "cell_type": "markdown",
      "metadata": {
        "id": "tuKeQ9clm-PP"
      },
      "source": [
        "### Trading bot"
      ]
    },
    {
      "cell_type": "code",
      "execution_count": null,
      "metadata": {
        "id": "qQNC6LKwMQQr"
      },
      "outputs": [],
      "source": [
        "reset_seed()  # For reproducibility\n",
        "\n",
        "# Initialize capital and variables for the simulation\n",
        "budget = 10000.0       # Initial capital in €\n",
        "shares_held = 0        # Number of shares currently held\n",
        "portfolio_values = []  # List to store daily portfolio value\n",
        "actions_taken = []     # List to record trading decisions (BUY, SELL, HOLD)\n",
        "\n",
        "# Percentage threshold to trigger a trade\n",
        "threshold_percent = 0.1\n",
        "\n",
        "# Simulation loop: iterate from the first day to the second-to-last (to have a \"tomorrow\" price)\n",
        "for i in range(len(X_test) - 1):\n",
        "    current_price = test_close_prices[i]\n",
        "\n",
        "    # Predict the price for the next trading day\n",
        "    with torch.no_grad():\n",
        "        # The model expects an input of shape (1, 5)\n",
        "        predicted_price_scaled = model(X_test[i].unsqueeze(0)).item()\n",
        "\n",
        "    # Convert the predicted price back to the original scale\n",
        "    predicted_price = scaler_y.inverse_transform([[predicted_price_scaled]])[0, 0]\n",
        "\n",
        "    # Compute the percentage difference between the predicted and actual price\n",
        "    percent_diff = ((predicted_price - current_price) / current_price) * 100\n",
        "\n",
        "    # Default decision is HOLD\n",
        "    decision = \"HOLD\"\n",
        "\n",
        "    # Trading strategy:\n",
        "    # - If the predicted price is at least threshold% higher than the current price, buy\n",
        "    # - If the predicted price is at least threshold% lower than the current price, sell (if shares are held)\n",
        "    if percent_diff > threshold_percent and budget >= current_price:\n",
        "        # Buy as many shares as possible with the available budget\n",
        "        shares_to_buy = int(budget // current_price)\n",
        "        budget -= shares_to_buy * current_price\n",
        "        shares_held += shares_to_buy\n",
        "        decision = \"BUY\"\n",
        "    elif percent_diff < -threshold_percent and shares_held > 0:\n",
        "        # Sell all currently held shares\n",
        "        budget += shares_held * current_price\n",
        "        shares_held = 0\n",
        "        decision = \"SELL\"\n",
        "\n",
        "    actions_taken.append(decision)\n",
        "    # Compute the current portfolio value (cash + value of held shares)\n",
        "    portfolio_value = budget + (shares_held * current_price)\n",
        "    portfolio_values.append(portfolio_value)\n",
        "\n",
        "    # Print daily trading details\n",
        "    print(f\"Day {i}: Actual Price = {current_price}€, Predicted Price = {predicted_price}€, Diff = {percent_diff}%, Action = {decision}\")\n",
        "\n",
        "# Final portfolio value at the end of the simulation period\n",
        "final_value = budget + (shares_held * test_close_prices[-1])\n",
        "print(f\"\\nFinal Portfolio Value: {final_value}€\")\n",
        "\n",
        "# Plot the portfolio value over time and compare it to a Buy & Hold strategy\n",
        "plt.figure(figsize=(12, 6))\n",
        "plt.plot(test_data.index[:-1], portfolio_values, label=\"Portfolio Value (AI Trading)\", linestyle=\"dashed\")\n",
        "\n",
        "# Buy & Hold strategy: Assume all capital was invested on the first day\n",
        "buy_hold_values = test_close_prices[:-1] * (10000 / test_close_prices[0])\n",
        "plt.plot(test_data.index[:-1], buy_hold_values, label=\"Stock Price (Buy & Hold)\")\n",
        "\n",
        "plt.xlabel(\"Date\")\n",
        "plt.ylabel(\"Value (€)\")\n",
        "plt.title(\"Comparison: AI Trading vs Buy & Hold\")\n",
        "plt.legend()\n",
        "plt.show()"
      ]
    },
    {
      "cell_type": "code",
      "execution_count": null,
      "metadata": {
        "colab": {
          "base_uri": "https://localhost:8080/",
          "height": 1000
        },
        "id": "kRBs_PToM01H",
        "outputId": "8bbaed43-2171-4f2b-c4dd-143b497e6125"
      },
      "outputs": [
        {
          "name": "stdout",
          "output_type": "stream",
          "text": [
            "Day 0: Actual Price = [184.73497009]€, Predicted Price = [184.73497009]€, Diff = [0.]%, Decision = HOLD\n",
            "Day 1: Actual Price = [183.35174561]€, Predicted Price = 177.96315002441406€, Diff = [-2.93893879]%, Decision = HOLD\n",
            "Day 2: Actual Price = [181.02316284]€, Predicted Price = 304.93463134765625€, Diff = [68.45061514]%, Decision = BUY\n",
            "Day 3: Actual Price = [180.29670715]€, Predicted Price = 305.13775634765625€, Diff = [69.24200179]%, Decision = HOLD\n",
            "Day 4: Actual Price = [184.65536499]€, Predicted Price = 279.6757507324219€, Diff = [51.4582318]%, Decision = HOLD\n",
            "Day 5: Actual Price = [184.2374115]€, Predicted Price = 170.04014587402344€, Diff = [-7.70596238]%, Decision = SELL\n",
            "Day 6: Actual Price = [185.2822876]€, Predicted Price = 186.29248046875€, Diff = [0.54521826]%, Decision = BUY\n"
          ]
        },
        {
          "name": "stderr",
          "output_type": "stream",
          "text": [
            "<ipython-input-13-a36231895e9d>:48: DeprecationWarning: Conversion of an array with ndim > 0 to a scalar is deprecated, and will error in future. Ensure you extract a single element from your array before performing this operation. (Deprecated NumPy 1.25.)\n",
            "  shares_to_buy = int(budget // current_price)\n"
          ]
        },
        {
          "name": "stdout",
          "output_type": "stream",
          "text": [
            "Day 7: Actual Price = [184.68521118]€, Predicted Price = 151.07907104492188€, Diff = [-18.19644352]%, Decision = SELL\n",
            "Day 8: Actual Price = [185.01361084]€, Predicted Price = 170.04013061523438€, Diff = [-8.09317766]%, Decision = HOLD\n",
            "Day 9: Actual Price = [182.73478699]€, Predicted Price = 299.9234313964844€, Diff = [64.13045176]%, Decision = BUY\n",
            "Day 10: Actual Price = [181.78939819]€, Predicted Price = 173.3583221435547€, Diff = [-4.63782604]%, Decision = SELL\n",
            "Day 11: Actual Price = [187.7104187]€, Predicted Price = 169.4984130859375€, Diff = [-9.70218155]%, Decision = HOLD\n",
            "Day 12: Actual Price = [190.62612915]€, Predicted Price = 158.5957794189453€, Diff = [-16.80270689]%, Decision = HOLD\n",
            "Day 13: Actual Price = [192.94476318]€, Predicted Price = 170.31100463867188€, Diff = [-11.73069337]%, Decision = HOLD\n",
            "Day 14: Actual Price = [194.22845459]€, Predicted Price = 181.6199188232422€, Diff = [-6.49160073]%, Decision = HOLD\n",
            "Day 15: Actual Price = [193.55178833]€, Predicted Price = 312.5867614746094€, Diff = [61.50032204]%, Decision = BUY\n",
            "Day 16: Actual Price = [193.22337341]€, Predicted Price = 293.0162048339844€, Diff = [51.64635606]%, Decision = HOLD\n",
            "Day 17: Actual Price = [191.48190308]€, Predicted Price = 297.9596252441406€, Diff = [55.60719862]%, Decision = HOLD\n",
            "Day 18: Actual Price = [190.79530334]€, Predicted Price = 173.3583221435547€, Diff = [-9.139104]%, Decision = SELL\n",
            "Day 19: Actual Price = [187.1232605]€, Predicted Price = 295.0477600097656€, Diff = [57.67561939]%, Decision = BUY\n",
            "Day 20: Actual Price = [183.50102234]€, Predicted Price = 167.53457641601562€, Diff = [-8.70101197]%, Decision = SELL\n",
            "Day 21: Actual Price = [185.94903564]€, Predicted Price = 297.14703369140625€, Diff = [59.8002553]%, Decision = BUY\n",
            "Day 22: Actual Price = [184.94395447]€, Predicted Price = 303.51251220703125€, Diff = [64.1105345]%, Decision = HOLD\n",
            "Day 23: Actual Price = [186.76502991]€, Predicted Price = 176.27020263671875€, Diff = [-5.61926784]%, Decision = SELL\n",
            "Day 24: Actual Price = [188.37715149]€, Predicted Price = 295.52178955078125€, Diff = [56.87772493]%, Decision = BUY\n",
            "Day 25: Actual Price = [188.48660278]€, Predicted Price = 176.81195068359375€, Diff = [-6.19388961]%, Decision = SELL\n",
            "Day 26: Actual Price = [187.4019165]€, Predicted Price = 178.57260131835938€, Diff = [-4.71143271]%, Decision = HOLD\n",
            "Day 27: Actual Price = [188.16914368]€, Predicted Price = 174.9158477783203€, Diff = [-7.04328863]%, Decision = HOLD\n",
            "Day 28: Actual Price = [186.47525024]€, Predicted Price = 291.8650207519531€, Diff = [56.51676047]%, Decision = BUY\n",
            "Day 29: Actual Price = [184.37286377]€, Predicted Price = 174.84811401367188€, Diff = [-5.16602582]%, Decision = SELL\n",
            "Day 30: Actual Price = [183.48606873]€, Predicted Price = 433.2604064941406€, Diff = [136.12714006]%, Decision = BUY\n",
            "Day 31: Actual Price = [183.1971283]€, Predicted Price = 310.8260498046875€, Diff = [69.66753393]%, Decision = HOLD\n",
            "Day 32: Actual Price = [181.65270996]€, Predicted Price = 300.87152099609375€, Diff = [65.63007569]%, Decision = HOLD\n",
            "Day 33: Actual Price = [180.90541077]€, Predicted Price = 177.01510620117188€, Diff = [-2.15046335]%, Decision = SELL\n",
            "Day 34: Actual Price = [181.66268921]€, Predicted Price = 307.23699951171875€, Diff = [69.124987]%, Decision = BUY\n",
            "Day 35: Actual Price = [183.70526123]€, Predicted Price = 176.134765625€, Diff = [-4.12100097]%, Decision = SELL\n",
            "Day 36: Actual Price = [181.86195374]€, Predicted Price = 443.68902587890625€, Diff = [143.97022949]%, Decision = BUY\n",
            "Day 37: Actual Price = [180.50686646]€, Predicted Price = 163.7423553466797€, Diff = [-9.28746448]%, Decision = SELL\n",
            "Day 38: Actual Price = [181.97157288]€, Predicted Price = 177.4891357421875€, Diff = [-2.46326229]%, Decision = HOLD\n",
            "Day 39: Actual Price = [180.76593018]€, Predicted Price = 311.77410888671875€, Diff = [72.47393277]%, Decision = BUY\n",
            "Day 40: Actual Price = [180.0983429]€, Predicted Price = 310.2843322753906€, Diff = [72.28605621]%, Decision = HOLD\n",
            "Day 41: Actual Price = [179.01226807]€, Predicted Price = 181.21363830566406€, Diff = [1.22973149]%, Decision = HOLD\n",
            "Day 42: Actual Price = [174.46870422]€, Predicted Price = 171.46221923828125€, Diff = [-1.72322308]%, Decision = SELL\n",
            "Day 43: Actual Price = [169.50666809]€, Predicted Price = 173.8323516845703€, Diff = [2.55192533]%, Decision = BUY\n",
            "Day 44: Actual Price = [168.51025391]€, Predicted Price = 181.82308959960938€, Diff = [7.90031193]%, Decision = HOLD\n",
            "Day 45: Actual Price = [168.39070129]€, Predicted Price = 178.43719482421875€, Diff = [5.96618071]%, Decision = HOLD\n",
            "Day 46: Actual Price = [170.11447144]€, Predicted Price = 160.83047485351562€, Diff = [-5.45749959]%, Decision = SELL\n",
            "Day 47: Actual Price = [172.12718201]€, Predicted Price = 309.2685241699219€, Diff = [79.67442479]%, Decision = BUY\n",
            "Day 48: Actual Price = [172.60543823]€, Predicted Price = 174.44180297851562€, Diff = [1.06390897]%, Decision = HOLD\n",
            "Day 49: Actual Price = [170.51303101]€, Predicted Price = 301.8873291015625€, Diff = [77.04648573]%, Decision = HOLD\n",
            "Day 50: Actual Price = [172.37626648]€, Predicted Price = 304.7314147949219€, Diff = [76.78269812]%, Decision = HOLD\n",
            "Day 51: Actual Price = [171.99765015]€, Predicted Price = 290.578369140625€, Diff = [68.94322038]%, Decision = HOLD\n",
            "Day 52: Actual Price = [173.09368896]€, Predicted Price = 179.9947052001953€, Diff = [3.98686762]%, Decision = HOLD\n",
            "Day 53: Actual Price = [175.44519043]€, Predicted Price = 306.2889709472656€, Diff = [74.57815184]%, Decision = HOLD\n",
            "Day 54: Actual Price = [178.02581787]€, Predicted Price = 307.9141845703125€, Diff = [72.96041004]%, Decision = HOLD\n",
            "Day 55: Actual Price = [170.75215149]€, Predicted Price = 305.34088134765625€, Diff = [78.82110339]%, Decision = HOLD\n",
            "Day 56: Actual Price = [171.65885925]€, Predicted Price = 167.39913940429688€, Diff = [-2.48150306]%, Decision = SELL\n",
            "Day 57: Actual Price = [170.23403931]€, Predicted Price = 300.32977294921875€, Diff = [76.42169226]%, Decision = BUY\n",
            "Day 58: Actual Price = [169.09814453]€, Predicted Price = 170.7850341796875€, Diff = [0.99758022]%, Decision = HOLD\n",
            "Day 59: Actual Price = [172.68515015]€, Predicted Price = 178.30174255371094€, Diff = [3.25250457]%, Decision = HOLD\n",
            "\n",
            "Final Portfolio Value: [9303.90394592]€\n"
          ]
        },
        {
          "data": {
            "image/png": "[encoded data removed]",
            "text/plain": [
              "<Figure size 1200x600 with 1 Axes>"
            ]
          },
          "metadata": {},
          "output_type": "display_data"
        }
      ],
      "source": [
        "reset_seed()  # For reproducibility\n",
        "\n",
        "# Load the Chronos Model Pipeline\n",
        "pipeline = BaseChronosPipeline.from_pretrained(\n",
        "    \"amazon/chronos-t5-tiny\",\n",
        "    device_map=DEVICE,\n",
        "    torch_dtype=torch.bfloat16,\n",
        ")\n",
        "\n",
        "# Prepare the dataset: extract features and closing prices\n",
        "test_features = test_data[[\"Open\", \"High\", \"Low\", \"Volume\", \"Close\"]].values\n",
        "test_close_prices = test_data[\"Close\"].values\n",
        "\n",
        "# Initialize capital and variables for the simulation\n",
        "budget = 10000.0       # Initial capital in €\n",
        "shares_held = 0        # Number of shares currently held\n",
        "portfolio_values = []  # List to store daily portfolio value\n",
        "actions_taken = []     # List to record trading decisions (BUY, SELL, HOLD)\n",
        "\n",
        "# Percentage threshold to trigger a trade\n",
        "threshold_percent = 0.1\n",
        "\n",
        "# Trading Simulation Loop: Iterate Over Each Trading Day\n",
        "for i in range(len(test_close_prices) - 1):\n",
        "    current_price = test_close_prices[i]\n",
        "\n",
        "    # Build the Context Window for prediction. Use up to the last 100 closing prices as context\n",
        "    if i > 0:\n",
        "        context = torch.tensor(test_close_prices[max(0, i - 100):i], dtype=torch.float32)\n",
        "        if len(context) > 0:\n",
        "            # Predict the next day's price using the Chronos pipeline.\n",
        "            chronos_forecast = pipeline.predict(context=context, prediction_length=1)\n",
        "            predicted_price_tomorrow = np.mean(chronos_forecast[0].numpy())\n",
        "        else:\n",
        "            # Fallback: If context is empty, use the current price.\n",
        "            predicted_price_tomorrow = current_price\n",
        "    else:\n",
        "        # For the first day, no prior context exists, so use the current price.\n",
        "        predicted_price_tomorrow = current_price\n",
        "\n",
        "    # Calculate the percentage difference. Compute the percent change between the predicted price and the current price.\n",
        "    percent_diff = ((predicted_price_tomorrow - current_price) / current_price) * 100\n",
        "\n",
        "    # Default action is \"HOLD\" unless a BUY or SELL condition is met.\n",
        "    decision = \"HOLD\"\n",
        "    # BUY condition: If the percentage difference exceeds the threshold and there is enough budget.\n",
        "    if percent_diff > threshold_percent and budget >= current_price:\n",
        "        shares_to_buy = int(budget // current_price)\n",
        "        budget -= shares_to_buy * current_price\n",
        "        shares_held += shares_to_buy\n",
        "        decision = \"BUY\"\n",
        "    # SELL condition: If the percentage difference is below the negative threshold and shares are held.\n",
        "    elif percent_diff < -threshold_percent and shares_held > 0:\n",
        "        budget += shares_held * current_price\n",
        "        shares_held = 0\n",
        "        decision = \"SELL\"\n",
        "\n",
        "    actions_taken.append(decision)\n",
        "\n",
        "    # Calculate current Portfolio Value\n",
        "    portfolio_value = budget + (shares_held * current_price)\n",
        "    portfolio_values.append(portfolio_value)\n",
        "\n",
        "    # Print daily trading details\n",
        "    print(f\"Day {i}: Actual Price = {current_price}€, Predicted Price = {predicted_price_tomorrow}€, Diff = {percent_diff}%, Decision = {decision}\")\n",
        "\n",
        "# Final Portfolio Value calculation: Use the last available closing price for the final valuation.\n",
        "final_value = budget + (shares_held * test_close_prices[-1])\n",
        "print(f\"\\nFinal Portfolio Value: {final_value}€\")\n",
        "\n",
        "# Plot Portfolio Performance vs. Buy & Hold Strategy\n",
        "\n",
        "import matplotlib.pyplot as plt\n",
        "plt.figure(figsize=(12, 6))\n",
        "plt.plot(test_data.index[:-1], portfolio_values, label=\"Portfolio Value (Chronos Trading)\", linestyle=\"dashed\")\n",
        "# For a Buy & Hold strategy, assume that the entire initial capital is invested on the first day.\n",
        "buy_hold_values = test_close_prices[:-1] * (10000 / test_close_prices[0])\n",
        "plt.plot(test_data.index[:-1], buy_hold_values, label=\"Stock Price (Buy & Hold)\")\n",
        "plt.xlabel(\"Date\")\n",
        "plt.ylabel(\"Value (€)\")\n",
        "plt.title(\"Chronos Trading vs Buy & Hold\")\n",
        "plt.legend()\n",
        "plt.show()"
      ]
    }
  ],
  "metadata": {
    "accelerator": "GPU",
    "colab": {
      "gpuType": "T4",
      "provenance": []
    },
    "kernelspec": {
      "display_name": "Python 3 (ipykernel)",
      "language": "python",
      "name": "python3"
    },
    "language_info": {
      "name": "python"
    }
  },
  "nbformat": 4,
  "nbformat_minor": 0
}